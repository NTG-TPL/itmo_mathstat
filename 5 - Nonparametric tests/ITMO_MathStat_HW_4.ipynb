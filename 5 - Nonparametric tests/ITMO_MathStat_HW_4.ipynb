{
 "nbformat": 4,
 "nbformat_minor": 0,
 "metadata": {
  "colab": {
   "provenance": []
  },
  "kernelspec": {
   "name": "python3",
   "display_name": "Python 3 (ipykernel)",
   "language": "python"
  },
  "language_info": {
   "name": "python"
  }
 },
 "cells": [
  {
   "cell_type": "markdown",
   "source": [
    "# Домашнее задание 4 - Непараметрические критерии\n"
   ],
   "metadata": {
    "id": "gpWeOKcQO9lK"
   }
  },
  {
   "cell_type": "code",
   "source": [
    "import numpy as np\n",
    "import matplotlib.pyplot as plt\n",
    "import seaborn as sns\n",
    "from scipy import stats\n",
    "import pandas as pd"
   ],
   "metadata": {
    "id": "oVAdqVga7EYk",
    "ExecuteTime": {
     "end_time": "2025-02-09T12:59:16.876091Z",
     "start_time": "2025-02-09T12:59:16.873081Z"
    }
   },
   "outputs": [],
   "execution_count": 16
  },
  {
   "cell_type": "markdown",
   "source": [
    "##Задача 1 (5 баллов)\n"
   ],
   "metadata": {
    "id": "pzA3562lPXEl"
   }
  },
  {
   "cell_type": "markdown",
   "source": [
    "\n",
    "\n",
    "1.   Сгенерить самостоятельно 2 распределения, нормальное с любыми параметрами и размером 1000 и биномиальное с параметрами 1, 0.5 и размером 100\\\n",
    "2.   Для каждого распределения\n",
    "    *   Построить Q-Q plot\n",
    "    *   Проверить нормальность с помощью критерия согласия Колмогорова\n",
    "    *   Проверить нормальность с помощью критерия Шапиро-Уилка\n",
    "    *   Проверить то что ваши распределения имееют общее распределение с помощью критерия однородности Смирнова\n",
    "3.   Собрать новую выборку из ваших 2 сгенирированных распределений. Для этого взять случайных 900 элементов из нормального распределения и добавить к ним выборку с биномиальным распределением, чтобы снова получили выборки из 1000 элементов\n",
    "4.   Для новой \"собранной выборки\"\n",
    "    *   Построить Q-Q plot\n",
    "    *   Проверить нормальность с помощью критерия согласия Колмогорова\n",
    "    *   Проверить нормальность с помощью критерия Шапиро-Уилка\n",
    "5.  Из выборки с нормальным распределением получить новую выборку. Сделаем это с помощью \"докидывания эффекта\". Взять текущую выборку с нормальным распределением и рандомные 500 элементов увеличить на 5%, остальные оставим без изменений\n",
    "6. Для новой выборки с \"докинутым эффектом\"\n",
    "    *   Построить Q-Q plot\n",
    "    *   Проверить нормальность с помощью критерия согласия Колмогорова\n",
    "    *   Проверить нормальность с помощью критерия Шапиро-Уилка\n",
    "    *   Проверить то что ваши распределения(изначальное нормальное из п1 и полученное в п5) имееют общее распределение с помощью критерия однородности Смирнова\n",
    "\n",
    "\n",
    "\n",
    "\n",
    "\n",
    "\n",
    "\n",
    "\n",
    "\n",
    "\n",
    "\n",
    "\n",
    "\n",
    "\n",
    "\n",
    "\n",
    "\n",
    "\n",
    "\n"
   ],
   "metadata": {
    "id": "kN27d0FwPkKo"
   }
  },
  {
   "cell_type": "code",
   "source": [
    "np.random.seed(42)\n",
    "\n",
    "normal_dist = np.random.normal(loc=5, scale=1.5, size=1000)\n",
    "\n",
    "binomial_dist = np.random.binomial(n=1, p=0.5, size=100)"
   ],
   "metadata": {
    "id": "1OSzhhAO7f5h",
    "ExecuteTime": {
     "end_time": "2025-02-09T12:59:16.999094Z",
     "start_time": "2025-02-09T12:59:16.992698Z"
    }
   },
   "outputs": [],
   "execution_count": 17
  },
  {
   "cell_type": "code",
   "source": [
    "def kolmogorov_test(input_data):\n",
    "    return stats.kstest(input_data, 'norm')\n",
    "\n",
    "def shapiro_test(input_data):\n",
    "    return stats.shapiro(input_data)\n",
    "\n",
    "def smirnov_test(input_data1, input_data2):\n",
    "    return stats.ks_2samp(input_data1, input_data2)"
   ],
   "metadata": {
    "id": "GY6EVEvL9TKW",
    "ExecuteTime": {
     "end_time": "2025-02-09T12:59:17.060411Z",
     "start_time": "2025-02-09T12:59:17.056152Z"
    }
   },
   "outputs": [],
   "execution_count": 18
  },
  {
   "cell_type": "code",
   "source": [
    "# Построить Q-Q plot\n",
    "def plot_qq(input_data, title, subplot = (1, 1, 1), xlim=None, ylim=None):\n",
    "    plt.subplot(subplot[0], subplot[1], subplot[2])\n",
    "    stats.probplot(input_data, dist=\"norm\", plot=plt)\n",
    "    if xlim:\n",
    "      plt.xlim(xlim)\n",
    "    if ylim:\n",
    "      plt.ylim(ylim)\n",
    "    plt.title(title)"
   ],
   "metadata": {
    "id": "aOU9q5xJ9oGK",
    "ExecuteTime": {
     "end_time": "2025-02-09T12:59:17.129561Z",
     "start_time": "2025-02-09T12:59:17.125369Z"
    }
   },
   "outputs": [],
   "execution_count": 19
  },
  {
   "cell_type": "code",
   "source": [
    "def print_conclusions(ks_normal = None, sw_normal = None, ks_binomial = None, sw_binomial = None, smirnov_result = None, alpha = 0.05):\n",
    "\n",
    "  if any(value is not None for value in [ks_normal, sw_normal, ks_binomial, sw_binomial, smirnov_result]):\n",
    "    print(f\"Результаты для уровня значимости {alpha}:\")\n",
    "\n",
    "  # Нормальное распределение\n",
    "  if ks_normal:\n",
    "    if ks_normal.pvalue > alpha:\n",
    "        print(\"Нормальное распределение: Данные соответствуют нормальному распределению по тесту Колмогорова-Смирнова.\")\n",
    "    else:\n",
    "        print(\"Нормальное распределение: Данные не соответствуют нормальному распределению по тесту Колмогорова-Смирнова.\")\n",
    "\n",
    "  if sw_normal:\n",
    "    if sw_normal.pvalue > alpha:\n",
    "        print(\"Нормальное распределение: Данные соответствуют нормальному распределению по тесту Шапиро-Уилка.\")\n",
    "    else:\n",
    "        print(\"Нормальное распределение: Данные не соответствуют нормальному распределению по тесту Шапиро-Уилка.\")\n",
    "\n",
    "  # Биномиальное распределение\n",
    "  if ks_binomial:\n",
    "    if ks_binomial.pvalue > alpha:\n",
    "        print(\"Биномиальное распределение: Данные соответствуют нормальному распределению по тесту Колмогорова-Смирнова.\")\n",
    "    else:\n",
    "        print(\"Биномиальное распределение: Данные не соответствуют нормальному распределению по тесту Колмогорова-Смирнова.\")\n",
    "\n",
    "  if sw_binomial:\n",
    "    if sw_binomial.pvalue > alpha:\n",
    "        print(\"Биномиальное распределение: Данные соответствуют нормальному распределению по тесту Шапиро-Уилка.\")\n",
    "    else:\n",
    "        print(\"Биномиальное распределение: Данные не соответствуют нормальному распределению по тесту Шапиро-Уилка.\")\n",
    "\n",
    "  # Сравнение распределений\n",
    "  if smirnov_result:\n",
    "    if smirnov_result.pvalue > alpha:\n",
    "        print(\"Сравнение распределений: Данные распределений являются однородными.\")\n",
    "    else:\n",
    "        print(\"Сравнение распределений: Данные распределений не являются однородными.\")"
   ],
   "metadata": {
    "id": "2rDKlhbb-57S",
    "ExecuteTime": {
     "end_time": "2025-02-09T12:59:17.210522Z",
     "start_time": "2025-02-09T12:59:17.199276Z"
    }
   },
   "outputs": [],
   "execution_count": 20
  },
  {
   "cell_type": "code",
   "source": [
    "plt.figure(figsize=(18, 8))\n",
    "plot_qq(normal_dist, \"Q-Q Plot для нормального распределения\", subplot=(1, 2, 1))\n",
    "plot_qq(binomial_dist, \"Q-Q Plot для биномиального распределения\", subplot=(1, 2, 2))\n",
    "plt.show()\n",
    "\n",
    "\n",
    "ks_normal = kolmogorov_test(normal_dist)\n",
    "ks_binomial = kolmogorov_test(binomial_dist)\n",
    "\n",
    "print(\"Тест Колмогорова-Смирнова для нормального распределения:\", ks_normal)\n",
    "print(\"Тест Колмогорова-Смирнова для биномиального распределения:\", ks_binomial)\n",
    "\n",
    "\n",
    "sw_normal = shapiro_test(normal_dist)\n",
    "sw_binomial = shapiro_test(binomial_dist)\n",
    "\n",
    "print(\"Тест Шапиро-Уилка для нормального распределения:\", sw_normal)\n",
    "print(\"Тест Шапиро-Уилка для биномиального распределения:\", sw_binomial)\n",
    "\n",
    "smirnov_result = smirnov_test(normal_dist, binomial_dist)\n",
    "print(\"Тест Смирнова для нормального и биномиального распределений:\", smirnov_result)"
   ],
   "metadata": {
    "colab": {
     "base_uri": "https://localhost:8080/",
     "height": 805
    },
    "id": "X0gMeB6r7is3",
    "outputId": "0fdcad92-f2f5-4e56-938e-11600b108764",
    "ExecuteTime": {
     "end_time": "2025-02-09T12:59:17.719149Z",
     "start_time": "2025-02-09T12:59:17.286671Z"
    }
   },
   "outputs": [
    {
     "data": {
      "text/plain": [
       "<Figure size 1800x800 with 2 Axes>"
      ],
      "image/png": "[encoded data removed]"
     },
     "metadata": {},
     "output_type": "display_data"
    },
    {
     "name": "stdout",
     "output_type": "stream",
     "text": [
      "Тест Колмогорова-Смирнова для нормального распределения: KstestResult(statistic=0.9631475401158637, pvalue=0.0, statistic_location=2.331919626643582, statistic_sign=-1)\n",
      "Тест Колмогорова-Смирнова для биномиального распределения: KstestResult(statistic=0.5, pvalue=1.2131434371817858e-23, statistic_location=0, statistic_sign=-1)\n",
      "Тест Шапиро-Уилка для нормального распределения: ShapiroResult(statistic=0.9986092190571166, pvalue=0.6272578290249117)\n",
      "Тест Шапиро-Уилка для биномиального распределения: ShapiroResult(statistic=0.6358192863457472, pvalue=2.1735753688912303e-14)\n",
      "Тест Смирнова для нормального и биномиального распределений: KstestResult(statistic=0.998, pvalue=7.239801585707932e-141, statistic_location=1.0, statistic_sign=-1)\n"
     ]
    }
   ],
   "execution_count": 21
  },
  {
   "cell_type": "code",
   "source": [
    "alpha = 0.05\n",
    "print_conclusions(ks_normal, sw_normal, ks_binomial, sw_binomial, smirnov_result, alpha)"
   ],
   "metadata": {
    "colab": {
     "base_uri": "https://localhost:8080/"
    },
    "id": "7I3B_2bq-bvE",
    "outputId": "f8a3446d-72dd-4e9b-927f-b7b7ae855469",
    "ExecuteTime": {
     "end_time": "2025-02-09T12:59:17.768032Z",
     "start_time": "2025-02-09T12:59:17.764911Z"
    }
   },
   "outputs": [
    {
     "name": "stdout",
     "output_type": "stream",
     "text": [
      "Результаты для уровня значимости 0.05:\n",
      "Нормальное распределение: Данные не соответствуют нормальному распределению по тесту Колмогорова-Смирнова.\n",
      "Нормальное распределение: Данные соответствуют нормальному распределению по тесту Шапиро-Уилка.\n",
      "Биномиальное распределение: Данные не соответствуют нормальному распределению по тесту Колмогорова-Смирнова.\n",
      "Биномиальное распределение: Данные не соответствуют нормальному распределению по тесту Шапиро-Уилка.\n",
      "Сравнение распределений: Данные распределений не являются однородными.\n"
     ]
    }
   ],
   "execution_count": 22
  },
  {
   "cell_type": "code",
   "source": [
    "# 3. Собрать новую выборку\n",
    "np.random.shuffle(normal_dist)\n",
    "new_sample = np.concatenate([normal_dist[:900], binomial_dist])"
   ],
   "metadata": {
    "id": "Uh9l5XLH7kMd",
    "ExecuteTime": {
     "end_time": "2025-02-09T12:59:17.832896Z",
     "start_time": "2025-02-09T12:59:17.830167Z"
    }
   },
   "outputs": [],
   "execution_count": 23
  },
  {
   "cell_type": "code",
   "source": [
    "# 4. Для новой \"собранной выборки\"\n",
    "plt.figure(figsize=(8, 6))\n",
    "plot_qq(new_sample, \"Q-Q Plot для объединенной выборки\")\n",
    "plt.show()\n",
    "\n",
    "ks_new_sample = kolmogorov_test(new_sample)\n",
    "print(\"Тест Колмогорова-Смирнова для объединенной выборки:\", ks_new_sample)\n",
    "\n",
    "sw_new_sample = shapiro_test(new_sample)\n",
    "print(\"Тест Шапиро-Уилка для объединенной выборки:\", sw_new_sample)"
   ],
   "metadata": {
    "colab": {
     "base_uri": "https://localhost:8080/",
     "height": 599
    },
    "id": "jj6v6Mry7ls8",
    "outputId": "e9b75973-1dbc-4ef5-aa97-28f48afb7da8",
    "ExecuteTime": {
     "end_time": "2025-02-09T12:59:18.086143Z",
     "start_time": "2025-02-09T12:59:17.886106Z"
    }
   },
   "outputs": [
    {
     "data": {
      "text/plain": [
       "<Figure size 800x600 with 1 Axes>"
      ],
      "image/png": "[encoded data removed]"
     },
     "metadata": {},
     "output_type": "display_data"
    },
    {
     "name": "stdout",
     "output_type": "stream",
     "text": [
      "Тест Колмогорова-Смирнова для объединенной выборки: KstestResult(statistic=0.8661475401158637, pvalue=0.0, statistic_location=2.331919626643582, statistic_sign=-1)\n",
      "Тест Шапиро-Уилка для объединенной выборки: ShapiroResult(statistic=0.9647729992772682, pvalue=8.013361107639357e-15)\n"
     ]
    }
   ],
   "execution_count": 24
  },
  {
   "cell_type": "code",
   "source": [
    "print_conclusions(ks_normal=ks_new_sample, sw_normal=sw_new_sample, alpha=0.05)"
   ],
   "metadata": {
    "colab": {
     "base_uri": "https://localhost:8080/"
    },
    "id": "f3QKux6mBSg_",
    "outputId": "ef1c0719-e224-4b75-ad81-d6d8a777a245",
    "ExecuteTime": {
     "end_time": "2025-02-09T12:59:18.100498Z",
     "start_time": "2025-02-09T12:59:18.097608Z"
    }
   },
   "outputs": [
    {
     "name": "stdout",
     "output_type": "stream",
     "text": [
      "Результаты для уровня значимости 0.05:\n",
      "Нормальное распределение: Данные не соответствуют нормальному распределению по тесту Колмогорова-Смирнова.\n",
      "Нормальное распределение: Данные не соответствуют нормальному распределению по тесту Шапиро-Уилка.\n"
     ]
    }
   ],
   "execution_count": 25
  },
  {
   "cell_type": "code",
   "source": [
    "# 5. Получить новую выборку с \"докинутым эффектом\"\n",
    "np.random.shuffle(normal_dist)\n",
    "effect_indices = np.random.choice(1000, 500, replace=False)\n",
    "effect_sample = normal_dist.copy()\n",
    "effect_sample[effect_indices] *= 1.05"
   ],
   "metadata": {
    "id": "yKU67WsN7n62",
    "ExecuteTime": {
     "end_time": "2025-02-09T12:59:18.195174Z",
     "start_time": "2025-02-09T12:59:18.187847Z"
    }
   },
   "outputs": [],
   "execution_count": 26
  },
  {
   "cell_type": "code",
   "source": [
    "# 6. Для новой выборки с \"докинутым эффектом\"\n",
    "plt.figure(figsize=(8, 6))\n",
    "plot_qq(effect_sample, \"Q-Q Plot для выборки с докинутым эффектом\")\n",
    "plt.show()\n",
    "\n",
    "ks_effect_sample = kolmogorov_test(effect_sample)\n",
    "print(\"Тест Колмогорова-Смирнова для выборки с докинутым эффектом:\", ks_effect_sample)\n",
    "\n",
    "sw_effect_sample = shapiro_test(effect_sample)\n",
    "print(\"Тест Шапиро-Уилка для выборки с докинутым эффектом:\", sw_effect_sample)\n",
    "\n",
    "smirnov_effect_sample = smirnov_test(normal_dist, effect_sample)\n",
    "print(\"Тест Смирнова для исходного нормального и выборки с докинутым эффектом:\", smirnov_effect_sample)"
   ],
   "metadata": {
    "id": "6L68L8ePXqx1",
    "colab": {
     "base_uri": "https://localhost:8080/",
     "height": 616
    },
    "outputId": "40790778-8df5-446e-a1ec-4057196b075a",
    "ExecuteTime": {
     "end_time": "2025-02-09T12:59:18.406618Z",
     "start_time": "2025-02-09T12:59:18.241293Z"
    }
   },
   "outputs": [
    {
     "data": {
      "text/plain": [
       "<Figure size 800x600 with 1 Axes>"
      ],
      "image/png": "[encoded data removed]"
     },
     "metadata": {},
     "output_type": "display_data"
    },
    {
     "name": "stdout",
     "output_type": "stream",
     "text": [
      "Тест Колмогорова-Смирнова для выборки с докинутым эффектом: KstestResult(statistic=0.9659792157884265, pvalue=0.0, statistic_location=2.1195789595035937, statistic_sign=-1)\n",
      "Тест Шапиро-Уилка для выборки с докинутым эффектом: ShapiroResult(statistic=0.9983120105036644, pvalue=0.43840457704610736)\n",
      "Тест Смирнова для исходного нормального и выборки с докинутым эффектом: KstestResult(statistic=0.044, pvalue=0.28779764348473313, statistic_location=5.130570602357257, statistic_sign=1)\n"
     ]
    }
   ],
   "execution_count": 27
  },
  {
   "cell_type": "code",
   "source": [
    "print_conclusions(ks_normal=ks_effect_sample, sw_normal=sw_effect_sample, smirnov_result=smirnov_effect_sample, alpha=0.05)"
   ],
   "metadata": {
    "colab": {
     "base_uri": "https://localhost:8080/"
    },
    "id": "qI6V-S2FCxIX",
    "outputId": "ec9db01e-57e8-49e0-946c-5cef52c52e7c",
    "ExecuteTime": {
     "end_time": "2025-02-09T12:59:18.494697Z",
     "start_time": "2025-02-09T12:59:18.489990Z"
    }
   },
   "outputs": [
    {
     "name": "stdout",
     "output_type": "stream",
     "text": [
      "Результаты для уровня значимости 0.05:\n",
      "Нормальное распределение: Данные не соответствуют нормальному распределению по тесту Колмогорова-Смирнова.\n",
      "Нормальное распределение: Данные соответствуют нормальному распределению по тесту Шапиро-Уилка.\n",
      "Сравнение распределений: Данные распределений являются однородными.\n"
     ]
    }
   ],
   "execution_count": 28
  },
  {
   "cell_type": "markdown",
   "source": [
    "## Задача 2 (4 балла)\n",
    "\n",
    "Для данных из файла employees.xls постройте гистограмму для переменной SALARY. Проверьте нормальность этих данных с помощью:\n",
    "  * Q-Q plot\n",
    "  * Критерия Колмогорова\n",
    "  * Критерия Шапиро-Уилка\n"
   ],
   "metadata": {
    "id": "sna0jv_9X5pw"
   }
  },
  {
   "cell_type": "code",
   "source": [
    "!curl -O https://raw.githubusercontent.com/YuriyKotov/datasets/master/employees.xls >> employees.xls"
   ],
   "metadata": {
    "colab": {
     "base_uri": "https://localhost:8080/"
    },
    "id": "j3CXbLZvl4tJ",
    "outputId": "0a742e5f-d5ce-4091-de12-6e107a83c33c",
    "ExecuteTime": {
     "end_time": "2025-02-09T12:59:19.644965Z",
     "start_time": "2025-02-09T12:59:18.570488Z"
    }
   },
   "outputs": [
    {
     "name": "stdout",
     "output_type": "stream",
     "text": [
      "  % Total    % Received % Xferd  Average Speed   Time    Time     Time  Current\r\n",
      "                                 Dload  Upload   Total   Spent    Left  Speed\r\n",
      "100 26624  100 26624    0     0  37727      0 --:--:-- --:--:-- --:--:-- 37711\r\n"
     ]
    }
   ],
   "execution_count": 29
  },
  {
   "cell_type": "code",
   "source": [
    "df = pd.read_excel('employees.xls')\n",
    "df.info()"
   ],
   "metadata": {
    "colab": {
     "base_uri": "https://localhost:8080/"
    },
    "id": "39ZbQk1_mfry",
    "outputId": "95a64756-63a2-4412-daf9-2d0738d42017",
    "ExecuteTime": {
     "end_time": "2025-02-09T12:59:19.681972Z",
     "start_time": "2025-02-09T12:59:19.656907Z"
    }
   },
   "outputs": [
    {
     "name": "stdout",
     "output_type": "stream",
     "text": [
      "<class 'pandas.core.frame.DataFrame'>\n",
      "RangeIndex: 100 entries, 0 to 99\n",
      "Data columns (total 10 columns):\n",
      " #   Column      Non-Null Count  Dtype \n",
      "---  ------      --------------  ----- \n",
      " 0   Unnamed: 0  100 non-null    object\n",
      " 1   GENDER      100 non-null    object\n",
      " 2   DEPART      100 non-null    object\n",
      " 3   EDUC        100 non-null    object\n",
      " 4   AGE         100 non-null    int64 \n",
      " 5   HEIGHT      100 non-null    int64 \n",
      " 6   SENIOR      100 non-null    int64 \n",
      " 7   SALARY      100 non-null    int64 \n",
      " 8   INI_PROF    100 non-null    int64 \n",
      " 9   CUR_PROF    100 non-null    int64 \n",
      "dtypes: int64(6), object(4)\n",
      "memory usage: 7.9+ KB\n"
     ]
    }
   ],
   "execution_count": 30
  },
  {
   "cell_type": "code",
   "source": [
    "df.head()"
   ],
   "metadata": {
    "colab": {
     "base_uri": "https://localhost:8080/",
     "height": 206
    },
    "id": "lIaU8CSJmoOP",
    "outputId": "17c15e83-f985-4d14-b5fb-e9e9d6bf8fa7",
    "ExecuteTime": {
     "end_time": "2025-02-09T12:59:19.733659Z",
     "start_time": "2025-02-09T12:59:19.721782Z"
    }
   },
   "outputs": [
    {
     "data": {
      "text/plain": [
       "   Unnamed: 0  GENDER   DEPART     EDUC  AGE  HEIGHT  SENIOR  SALARY  \\\n",
       "0  Alexander   Female     Ship  College   22      63       4   23400   \n",
       "1  Arcones       Male  Package  College   49      65      17   40400   \n",
       "2  Barber        Male     Bake  College   36      67       8   29400   \n",
       "3  Barrera       Male  Package       HS   37      67       3   24800   \n",
       "4  Bester        Male     Ship     Grad   43      66      11   31200   \n",
       "\n",
       "   INI_PROF  CUR_PROF  \n",
       "0        82        90  \n",
       "1        89       123  \n",
       "2        77        93  \n",
       "3       102       108  \n",
       "4        82       104  "
      ],
      "text/html": [
       "<div>\n",
       "<style scoped>\n",
       "    .dataframe tbody tr th:only-of-type {\n",
       "        vertical-align: middle;\n",
       "    }\n",
       "\n",
       "    .dataframe tbody tr th {\n",
       "        vertical-align: top;\n",
       "    }\n",
       "\n",
       "    .dataframe thead th {\n",
       "        text-align: right;\n",
       "    }\n",
       "</style>\n",
       "<table border=\"1\" class=\"dataframe\">\n",
       "  <thead>\n",
       "    <tr style=\"text-align: right;\">\n",
       "      <th></th>\n",
       "      <th>Unnamed: 0</th>\n",
       "      <th>GENDER</th>\n",
       "      <th>DEPART</th>\n",
       "      <th>EDUC</th>\n",
       "      <th>AGE</th>\n",
       "      <th>HEIGHT</th>\n",
       "      <th>SENIOR</th>\n",
       "      <th>SALARY</th>\n",
       "      <th>INI_PROF</th>\n",
       "      <th>CUR_PROF</th>\n",
       "    </tr>\n",
       "  </thead>\n",
       "  <tbody>\n",
       "    <tr>\n",
       "      <th>0</th>\n",
       "      <td>Alexander</td>\n",
       "      <td>Female</td>\n",
       "      <td>Ship</td>\n",
       "      <td>College</td>\n",
       "      <td>22</td>\n",
       "      <td>63</td>\n",
       "      <td>4</td>\n",
       "      <td>23400</td>\n",
       "      <td>82</td>\n",
       "      <td>90</td>\n",
       "    </tr>\n",
       "    <tr>\n",
       "      <th>1</th>\n",
       "      <td>Arcones</td>\n",
       "      <td>Male</td>\n",
       "      <td>Package</td>\n",
       "      <td>College</td>\n",
       "      <td>49</td>\n",
       "      <td>65</td>\n",
       "      <td>17</td>\n",
       "      <td>40400</td>\n",
       "      <td>89</td>\n",
       "      <td>123</td>\n",
       "    </tr>\n",
       "    <tr>\n",
       "      <th>2</th>\n",
       "      <td>Barber</td>\n",
       "      <td>Male</td>\n",
       "      <td>Bake</td>\n",
       "      <td>College</td>\n",
       "      <td>36</td>\n",
       "      <td>67</td>\n",
       "      <td>8</td>\n",
       "      <td>29400</td>\n",
       "      <td>77</td>\n",
       "      <td>93</td>\n",
       "    </tr>\n",
       "    <tr>\n",
       "      <th>3</th>\n",
       "      <td>Barrera</td>\n",
       "      <td>Male</td>\n",
       "      <td>Package</td>\n",
       "      <td>HS</td>\n",
       "      <td>37</td>\n",
       "      <td>67</td>\n",
       "      <td>3</td>\n",
       "      <td>24800</td>\n",
       "      <td>102</td>\n",
       "      <td>108</td>\n",
       "    </tr>\n",
       "    <tr>\n",
       "      <th>4</th>\n",
       "      <td>Bester</td>\n",
       "      <td>Male</td>\n",
       "      <td>Ship</td>\n",
       "      <td>Grad</td>\n",
       "      <td>43</td>\n",
       "      <td>66</td>\n",
       "      <td>11</td>\n",
       "      <td>31200</td>\n",
       "      <td>82</td>\n",
       "      <td>104</td>\n",
       "    </tr>\n",
       "  </tbody>\n",
       "</table>\n",
       "</div>"
      ]
     },
     "execution_count": 31,
     "metadata": {},
     "output_type": "execute_result"
    }
   ],
   "execution_count": 31
  },
  {
   "cell_type": "code",
   "source": [
    "df.describe()"
   ],
   "metadata": {
    "colab": {
     "base_uri": "https://localhost:8080/",
     "height": 300
    },
    "id": "q9tm7764Uc94",
    "outputId": "cfdc0a2b-2e16-4526-fa82-254d4ee984c8",
    "ExecuteTime": {
     "end_time": "2025-02-09T12:59:19.801618Z",
     "start_time": "2025-02-09T12:59:19.782640Z"
    }
   },
   "outputs": [
    {
     "data": {
      "text/plain": [
       "              AGE      HEIGHT      SENIOR        SALARY    INI_PROF  \\\n",
       "count  100.000000  100.000000  100.000000    100.000000  100.000000   \n",
       "mean    30.830000   66.210000    3.760000  24522.000000   99.470000   \n",
       "std      7.150694    2.786312    3.928965   5105.801414   14.438623   \n",
       "min     18.000000   60.000000    0.000000  16000.000000   66.000000   \n",
       "25%     26.000000   64.000000    1.000000  21025.000000   89.000000   \n",
       "50%     29.000000   67.000000    3.000000  23650.000000   98.000000   \n",
       "75%     35.250000   68.000000    5.000000  26225.000000  108.250000   \n",
       "max     54.000000   73.000000   17.000000  42400.000000  137.000000   \n",
       "\n",
       "         CUR_PROF  \n",
       "count  100.000000  \n",
       "mean   106.950000  \n",
       "std     15.828867  \n",
       "min     68.000000  \n",
       "25%     94.000000  \n",
       "50%    106.000000  \n",
       "75%    117.250000  \n",
       "max    142.000000  "
      ],
      "text/html": [
       "<div>\n",
       "<style scoped>\n",
       "    .dataframe tbody tr th:only-of-type {\n",
       "        vertical-align: middle;\n",
       "    }\n",
       "\n",
       "    .dataframe tbody tr th {\n",
       "        vertical-align: top;\n",
       "    }\n",
       "\n",
       "    .dataframe thead th {\n",
       "        text-align: right;\n",
       "    }\n",
       "</style>\n",
       "<table border=\"1\" class=\"dataframe\">\n",
       "  <thead>\n",
       "    <tr style=\"text-align: right;\">\n",
       "      <th></th>\n",
       "      <th>AGE</th>\n",
       "      <th>HEIGHT</th>\n",
       "      <th>SENIOR</th>\n",
       "      <th>SALARY</th>\n",
       "      <th>INI_PROF</th>\n",
       "      <th>CUR_PROF</th>\n",
       "    </tr>\n",
       "  </thead>\n",
       "  <tbody>\n",
       "    <tr>\n",
       "      <th>count</th>\n",
       "      <td>100.000000</td>\n",
       "      <td>100.000000</td>\n",
       "      <td>100.000000</td>\n",
       "      <td>100.000000</td>\n",
       "      <td>100.000000</td>\n",
       "      <td>100.000000</td>\n",
       "    </tr>\n",
       "    <tr>\n",
       "      <th>mean</th>\n",
       "      <td>30.830000</td>\n",
       "      <td>66.210000</td>\n",
       "      <td>3.760000</td>\n",
       "      <td>24522.000000</td>\n",
       "      <td>99.470000</td>\n",
       "      <td>106.950000</td>\n",
       "    </tr>\n",
       "    <tr>\n",
       "      <th>std</th>\n",
       "      <td>7.150694</td>\n",
       "      <td>2.786312</td>\n",
       "      <td>3.928965</td>\n",
       "      <td>5105.801414</td>\n",
       "      <td>14.438623</td>\n",
       "      <td>15.828867</td>\n",
       "    </tr>\n",
       "    <tr>\n",
       "      <th>min</th>\n",
       "      <td>18.000000</td>\n",
       "      <td>60.000000</td>\n",
       "      <td>0.000000</td>\n",
       "      <td>16000.000000</td>\n",
       "      <td>66.000000</td>\n",
       "      <td>68.000000</td>\n",
       "    </tr>\n",
       "    <tr>\n",
       "      <th>25%</th>\n",
       "      <td>26.000000</td>\n",
       "      <td>64.000000</td>\n",
       "      <td>1.000000</td>\n",
       "      <td>21025.000000</td>\n",
       "      <td>89.000000</td>\n",
       "      <td>94.000000</td>\n",
       "    </tr>\n",
       "    <tr>\n",
       "      <th>50%</th>\n",
       "      <td>29.000000</td>\n",
       "      <td>67.000000</td>\n",
       "      <td>3.000000</td>\n",
       "      <td>23650.000000</td>\n",
       "      <td>98.000000</td>\n",
       "      <td>106.000000</td>\n",
       "    </tr>\n",
       "    <tr>\n",
       "      <th>75%</th>\n",
       "      <td>35.250000</td>\n",
       "      <td>68.000000</td>\n",
       "      <td>5.000000</td>\n",
       "      <td>26225.000000</td>\n",
       "      <td>108.250000</td>\n",
       "      <td>117.250000</td>\n",
       "    </tr>\n",
       "    <tr>\n",
       "      <th>max</th>\n",
       "      <td>54.000000</td>\n",
       "      <td>73.000000</td>\n",
       "      <td>17.000000</td>\n",
       "      <td>42400.000000</td>\n",
       "      <td>137.000000</td>\n",
       "      <td>142.000000</td>\n",
       "    </tr>\n",
       "  </tbody>\n",
       "</table>\n",
       "</div>"
      ]
     },
     "execution_count": 32,
     "metadata": {},
     "output_type": "execute_result"
    }
   ],
   "execution_count": 32
  },
  {
   "cell_type": "code",
   "source": [
    "plt.figure(figsize=(10, 6))\n",
    "sns.histplot(df['SALARY'], bins=30, kde=True, color='blue')\n",
    "plt.title('Гистограмма для переменной SALARY')\n",
    "plt.xlabel('Зарплата')\n",
    "plt.ylabel('Частота')\n",
    "plt.show()\n",
    "\n",
    "plt.figure(figsize=(8, 6))\n",
    "plot_qq(df['SALARY'], \"Q-Q Plot для переменной SALARY\")\n",
    "plt.show()\n",
    "\n",
    "\n",
    "ks_test = kolmogorov_test(df['SALARY'])\n",
    "print(\"Тест Колмогорова-Смирнова для переменной SALARY:\", ks_test)\n",
    "\n",
    "sw_test = shapiro_test(df['SALARY'])\n",
    "print(\"Тест Шапиро-Уилка для переменной SALARY:\", sw_test)"
   ],
   "metadata": {
    "id": "ORMC4As7X9O2",
    "colab": {
     "base_uri": "https://localhost:8080/",
     "height": 1000
    },
    "outputId": "6f2152c7-b4db-419e-ce5c-5a22277a29c8",
    "ExecuteTime": {
     "end_time": "2025-02-09T12:59:20.167745Z",
     "start_time": "2025-02-09T12:59:19.849046Z"
    }
   },
   "outputs": [
    {
     "data": {
      "text/plain": [
       "<Figure size 1000x600 with 1 Axes>"
      ],
      "image/png": "[encoded data removed]"
     },
     "metadata": {},
     "output_type": "display_data"
    },
    {
     "data": {
      "text/plain": [
       "<Figure size 800x600 with 1 Axes>"
      ],
      "image/png": "[encoded data removed]"
     },
     "metadata": {},
     "output_type": "display_data"
    },
    {
     "name": "stdout",
     "output_type": "stream",
     "text": [
      "Тест Колмогорова-Смирнова для переменной SALARY: KstestResult(statistic=1.0, pvalue=0.0, statistic_location=16000, statistic_sign=-1)\n",
      "Тест Шапиро-Уилка для переменной SALARY: ShapiroResult(statistic=0.9015022004875934, pvalue=1.664645028598051e-06)\n"
     ]
    }
   ],
   "execution_count": 33
  },
  {
   "cell_type": "code",
   "source": [
    "print_conclusions(ks_normal=ks_test, sw_normal=sw_test, alpha=0.05)"
   ],
   "metadata": {
    "colab": {
     "base_uri": "https://localhost:8080/"
    },
    "id": "bYghaOAqKzSC",
    "outputId": "47755112-ba65-4c49-b071-a38b6c510fb6",
    "ExecuteTime": {
     "end_time": "2025-02-09T12:59:20.484423Z",
     "start_time": "2025-02-09T12:59:20.481626Z"
    }
   },
   "outputs": [
    {
     "name": "stdout",
     "output_type": "stream",
     "text": [
      "Результаты для уровня значимости 0.05:\n",
      "Нормальное распределение: Данные не соответствуют нормальному распределению по тесту Колмогорова-Смирнова.\n",
      "Нормальное распределение: Данные не соответствуют нормальному распределению по тесту Шапиро-Уилка.\n"
     ]
    }
   ],
   "execution_count": 34
  },
  {
   "cell_type": "markdown",
   "source": [
    "## Задача 3 (3 балла)"
   ],
   "metadata": {
    "id": "4ONTbUzIhfXC"
   }
  },
  {
   "cell_type": "markdown",
   "source": [
    "Для данных из файла employees.xls проверить с помощью критерия знаков и рангового критерия гипотезу что медианная зарплата равна 25000"
   ],
   "metadata": {
    "id": "IME-zgPShlVA"
   }
  },
  {
   "cell_type": "code",
   "source": [
    "def sign_test(input_data, hypothesized_median):\n",
    "    # Вычисляем разницу между элементами выборки и гипотетической медианой\n",
    "    differences = input_data - hypothesized_median\n",
    "\n",
    "    # Считаем количество положительных и отрицательных разностей\n",
    "    positive_count = np.sum(differences > 0)\n",
    "    negative_count = np.sum(differences < 0)\n",
    "\n",
    "    # Общее количество неравных нулю разностей\n",
    "    n = positive_count + negative_count\n",
    "\n",
    "    # Вычисляем p-value для двустороннего теста\n",
    "    p_value = 2 * min(stats.binom.cdf(min(positive_count, negative_count), n, 0.5),\n",
    "                      1 - stats.binom.cdf(min(positive_count, negative_count), n, 0.5))\n",
    "\n",
    "    return p_value\n"
   ],
   "metadata": {
    "id": "KtUrheD2L412",
    "ExecuteTime": {
     "end_time": "2025-02-09T12:59:20.572163Z",
     "start_time": "2025-02-09T12:59:20.569115Z"
    }
   },
   "outputs": [],
   "execution_count": 35
  },
  {
   "cell_type": "code",
   "source": [
    "salary = df['SALARY']\n",
    "\n",
    "hypothetical_median = 25000\n",
    "\n",
    "# Проверка с помощью критерия знаков\n",
    "p_value = sign_test(salary, hypothetical_median)\n",
    "print(\"Результат критерия знаков:\", p_value)\n",
    "\n",
    "# Проверка с помощью рангового критерия Уилкоксона\n",
    "wilcoxon_test_result = stats.wilcoxon(salary - hypothetical_median)\n",
    "print(\"Результат рангового критерия Уилкоксона:\", wilcoxon_test_result)"
   ],
   "metadata": {
    "id": "-c6sg8HBhjRR",
    "colab": {
     "base_uri": "https://localhost:8080/"
    },
    "outputId": "c2d91b36-f30c-42f6-8be4-8286b446e5cf",
    "ExecuteTime": {
     "end_time": "2025-02-09T12:59:20.652295Z",
     "start_time": "2025-02-09T12:59:20.647089Z"
    }
   },
   "outputs": [
    {
     "name": "stdout",
     "output_type": "stream",
     "text": [
      "Результат критерия знаков: 0.000490157948963301\n",
      "Результат рангового критерия Уилкоксона: WilcoxonResult(statistic=1809.5, pvalue=0.04131952571720401)\n"
     ]
    }
   ],
   "execution_count": 36
  },
  {
   "cell_type": "code",
   "source": [
    "# Выводы\n",
    "alpha = 0.05\n",
    "\n",
    "if p_value > alpha:\n",
    "    print(\"Критерий знаков: Нет оснований отвергнуть гипотезу о том, что медианная зарплата равна 25000.\")\n",
    "else:\n",
    "    print(\"Критерий знаков: Гипотеза о том, что медианная зарплата равна 25000, отвергается.\")\n",
    "\n",
    "if wilcoxon_test_result.pvalue > alpha:\n",
    "    print(\"Ранговый критерий Уилкоксона: Нет оснований отвергнуть гипотезу о том, что медианная зарплата равна 25000.\")\n",
    "else:\n",
    "    print(\"Ранговый критерий Уилкоксона: Гипотеза о том, что медианная зарплата равна 25000, отвергается.\")"
   ],
   "metadata": {
    "colab": {
     "base_uri": "https://localhost:8080/"
    },
    "id": "xrYmFSseMvTN",
    "outputId": "6f02cf48-0f18-4d57-8726-bfa7f814bed9",
    "ExecuteTime": {
     "end_time": "2025-02-09T12:59:20.800490Z",
     "start_time": "2025-02-09T12:59:20.797101Z"
    }
   },
   "outputs": [
    {
     "name": "stdout",
     "output_type": "stream",
     "text": [
      "Критерий знаков: Гипотеза о том, что медианная зарплата равна 25000, отвергается.\n",
      "Ранговый критерий Уилкоксона: Гипотеза о том, что медианная зарплата равна 25000, отвергается.\n"
     ]
    }
   ],
   "execution_count": 37
  },
  {
   "cell_type": "markdown",
   "source": [
    "## Задача 4 (3 балла)\n",
    "\n",
    "В файле anorexia.txt записан вес пациентов до и после начала терапии от анорексии. С помощью критерия знаков и рангового критерия проверить, была ли эффективна данная терапия"
   ],
   "metadata": {
    "id": "65B0aw6WY5MU"
   }
  },
  {
   "cell_type": "code",
   "source": [
    "!curl -O https://raw.githubusercontent.com/YuriyKotov/datasets/master/anorexia.txt >> anorexia.txt"
   ],
   "metadata": {
    "colab": {
     "base_uri": "https://localhost:8080/"
    },
    "id": "trymeMD5nVII",
    "outputId": "44745104-bb76-43a0-ce20-a8cac7624516",
    "ExecuteTime": {
     "end_time": "2025-02-09T12:59:22.051935Z",
     "start_time": "2025-02-09T12:59:20.898138Z"
    }
   },
   "outputs": [
    {
     "name": "stdout",
     "output_type": "stream",
     "text": [
      "  % Total    % Received % Xferd  Average Speed   Time    Time     Time  Current\r\n",
      "                                 Dload  Upload   Total   Spent    Left  Speed\r\n",
      "100   355  100   355    0     0    422      0 --:--:-- --:--:-- --:--:--   422\r\n"
     ]
    }
   ],
   "execution_count": 38
  },
  {
   "cell_type": "code",
   "source": [
    "df = pd.read_csv('anorexia.txt', sep='\\t')\n",
    "df.info()"
   ],
   "metadata": {
    "colab": {
     "base_uri": "https://localhost:8080/"
    },
    "id": "-8dBcUGmnbwS",
    "outputId": "add9dcbe-f6fd-4490-d308-1e60d04c556b",
    "ExecuteTime": {
     "end_time": "2025-02-09T12:59:22.091926Z",
     "start_time": "2025-02-09T12:59:22.083037Z"
    }
   },
   "outputs": [
    {
     "name": "stdout",
     "output_type": "stream",
     "text": [
      "<class 'pandas.core.frame.DataFrame'>\n",
      "RangeIndex: 29 entries, 0 to 28\n",
      "Data columns (total 2 columns):\n",
      " #   Column  Non-Null Count  Dtype  \n",
      "---  ------  --------------  -----  \n",
      " 0   Before  29 non-null     float64\n",
      " 1   After   29 non-null     float64\n",
      "dtypes: float64(2)\n",
      "memory usage: 596.0 bytes\n"
     ]
    }
   ],
   "execution_count": 39
  },
  {
   "cell_type": "code",
   "source": [
    "df.head()"
   ],
   "metadata": {
    "colab": {
     "base_uri": "https://localhost:8080/",
     "height": 206
    },
    "id": "ZVMra8_PohfK",
    "outputId": "71dd2177-6b7d-4175-e5b7-ac12c3e6c6b3",
    "ExecuteTime": {
     "end_time": "2025-02-09T12:59:22.142992Z",
     "start_time": "2025-02-09T12:59:22.135285Z"
    }
   },
   "outputs": [
    {
     "data": {
      "text/plain": [
       "   Before  After\n",
       "0    80.5   82.2\n",
       "1    84.9   85.6\n",
       "2    81.5   81.4\n",
       "3    82.6   81.9\n",
       "4    79.9   76.4"
      ],
      "text/html": [
       "<div>\n",
       "<style scoped>\n",
       "    .dataframe tbody tr th:only-of-type {\n",
       "        vertical-align: middle;\n",
       "    }\n",
       "\n",
       "    .dataframe tbody tr th {\n",
       "        vertical-align: top;\n",
       "    }\n",
       "\n",
       "    .dataframe thead th {\n",
       "        text-align: right;\n",
       "    }\n",
       "</style>\n",
       "<table border=\"1\" class=\"dataframe\">\n",
       "  <thead>\n",
       "    <tr style=\"text-align: right;\">\n",
       "      <th></th>\n",
       "      <th>Before</th>\n",
       "      <th>After</th>\n",
       "    </tr>\n",
       "  </thead>\n",
       "  <tbody>\n",
       "    <tr>\n",
       "      <th>0</th>\n",
       "      <td>80.5</td>\n",
       "      <td>82.2</td>\n",
       "    </tr>\n",
       "    <tr>\n",
       "      <th>1</th>\n",
       "      <td>84.9</td>\n",
       "      <td>85.6</td>\n",
       "    </tr>\n",
       "    <tr>\n",
       "      <th>2</th>\n",
       "      <td>81.5</td>\n",
       "      <td>81.4</td>\n",
       "    </tr>\n",
       "    <tr>\n",
       "      <th>3</th>\n",
       "      <td>82.6</td>\n",
       "      <td>81.9</td>\n",
       "    </tr>\n",
       "    <tr>\n",
       "      <th>4</th>\n",
       "      <td>79.9</td>\n",
       "      <td>76.4</td>\n",
       "    </tr>\n",
       "  </tbody>\n",
       "</table>\n",
       "</div>"
      ]
     },
     "execution_count": 40,
     "metadata": {},
     "output_type": "execute_result"
    }
   ],
   "execution_count": 40
  },
  {
   "cell_type": "code",
   "source": [
    "df.describe()"
   ],
   "metadata": {
    "colab": {
     "base_uri": "https://localhost:8080/",
     "height": 300
    },
    "id": "SCdVKLzKUZsm",
    "outputId": "770f4fd6-3f1c-416a-aa94-eb4000bad62b",
    "ExecuteTime": {
     "end_time": "2025-02-09T12:59:22.234231Z",
     "start_time": "2025-02-09T12:59:22.226558Z"
    }
   },
   "outputs": [
    {
     "data": {
      "text/plain": [
       "          Before       After\n",
       "count  29.000000   29.000000\n",
       "mean   82.689655   85.696552\n",
       "std     4.845495    8.351924\n",
       "min    70.000000   71.300000\n",
       "25%    80.400000   81.900000\n",
       "50%    82.600000   83.900000\n",
       "75%    85.000000   90.900000\n",
       "max    94.900000  103.600000"
      ],
      "text/html": [
       "<div>\n",
       "<style scoped>\n",
       "    .dataframe tbody tr th:only-of-type {\n",
       "        vertical-align: middle;\n",
       "    }\n",
       "\n",
       "    .dataframe tbody tr th {\n",
       "        vertical-align: top;\n",
       "    }\n",
       "\n",
       "    .dataframe thead th {\n",
       "        text-align: right;\n",
       "    }\n",
       "</style>\n",
       "<table border=\"1\" class=\"dataframe\">\n",
       "  <thead>\n",
       "    <tr style=\"text-align: right;\">\n",
       "      <th></th>\n",
       "      <th>Before</th>\n",
       "      <th>After</th>\n",
       "    </tr>\n",
       "  </thead>\n",
       "  <tbody>\n",
       "    <tr>\n",
       "      <th>count</th>\n",
       "      <td>29.000000</td>\n",
       "      <td>29.000000</td>\n",
       "    </tr>\n",
       "    <tr>\n",
       "      <th>mean</th>\n",
       "      <td>82.689655</td>\n",
       "      <td>85.696552</td>\n",
       "    </tr>\n",
       "    <tr>\n",
       "      <th>std</th>\n",
       "      <td>4.845495</td>\n",
       "      <td>8.351924</td>\n",
       "    </tr>\n",
       "    <tr>\n",
       "      <th>min</th>\n",
       "      <td>70.000000</td>\n",
       "      <td>71.300000</td>\n",
       "    </tr>\n",
       "    <tr>\n",
       "      <th>25%</th>\n",
       "      <td>80.400000</td>\n",
       "      <td>81.900000</td>\n",
       "    </tr>\n",
       "    <tr>\n",
       "      <th>50%</th>\n",
       "      <td>82.600000</td>\n",
       "      <td>83.900000</td>\n",
       "    </tr>\n",
       "    <tr>\n",
       "      <th>75%</th>\n",
       "      <td>85.000000</td>\n",
       "      <td>90.900000</td>\n",
       "    </tr>\n",
       "    <tr>\n",
       "      <th>max</th>\n",
       "      <td>94.900000</td>\n",
       "      <td>103.600000</td>\n",
       "    </tr>\n",
       "  </tbody>\n",
       "</table>\n",
       "</div>"
      ]
     },
     "execution_count": 41,
     "metadata": {},
     "output_type": "execute_result"
    }
   ],
   "execution_count": 41
  },
  {
   "cell_type": "code",
   "source": [
    "df['Difference'] = df['After'] - df['Before']\n",
    "\n",
    "positive_count = (df['Difference'] > 0).sum()\n",
    "negative_count = (df['Difference'] < 0).sum()\n",
    "\n",
    "p_value_sign = stats.binomtest(positive_count, n=positive_count + negative_count, p=0.5).pvalue\n",
    "\n",
    "print(f\"Критерий знаков: p-value = {p_value_sign}\")\n",
    "\n",
    "stat, p_value_wilcoxon = stats.wilcoxon(df['Before'], df['After'])\n",
    "\n",
    "print(f\"Ранговый критерий Уилкоксона: статистика = {stat}, p-value = {p_value_wilcoxon}\")"
   ],
   "metadata": {
    "id": "7c6e7-wGYPEs",
    "colab": {
     "base_uri": "https://localhost:8080/"
    },
    "outputId": "48f64616-602c-4379-99dd-b7649562136b",
    "ExecuteTime": {
     "end_time": "2025-02-09T12:59:22.328397Z",
     "start_time": "2025-02-09T12:59:22.317648Z"
    }
   },
   "outputs": [
    {
     "name": "stdout",
     "output_type": "stream",
     "text": [
      "Критерий знаков: p-value = 0.26493089646101\n",
      "Ранговый критерий Уилкоксона: статистика = 131.5, p-value = 0.06551516801118851\n"
     ]
    }
   ],
   "execution_count": 42
  },
  {
   "cell_type": "code",
   "source": [
    "alpha = 0.05\n",
    "# Выводы для критерия знаков\n",
    "if p_value_sign < alpha:\n",
    "    print(\"Критерий знаков: Терапия была эффективна (отвергаем H0)\")\n",
    "else:\n",
    "    print(\"Критерий знаков: Нет достаточных доказательств, что терапия была эффективна (не отвергаем H0)\")\n",
    "\n",
    "# Выводы для рангового критерия Уилкоксона\n",
    "if p_value_wilcoxon < alpha:\n",
    "    print(\"Ранговый критерий Уилкоксона: Терапия была эффективна (отвергаем H0)\")\n",
    "else:\n",
    "    print(\"Ранговый критерий Уилкоксона: Нет достаточных доказательств, что терапия была эффективна (не отвергаем H0)\")"
   ],
   "metadata": {
    "colab": {
     "base_uri": "https://localhost:8080/"
    },
    "id": "B656zJM6OmgG",
    "outputId": "84a8c8c8-d237-48ca-ed69-5f2a3651361f",
    "ExecuteTime": {
     "end_time": "2025-02-09T12:59:22.422230Z",
     "start_time": "2025-02-09T12:59:22.419221Z"
    }
   },
   "outputs": [
    {
     "name": "stdout",
     "output_type": "stream",
     "text": [
      "Критерий знаков: Нет достаточных доказательств, что терапия была эффективна (не отвергаем H0)\n",
      "Ранговый критерий Уилкоксона: Нет достаточных доказательств, что терапия была эффективна (не отвергаем H0)\n"
     ]
    }
   ],
   "execution_count": 43
  },
  {
   "cell_type": "markdown",
   "source": [
    "## Задача 5 (3 балла)\n",
    "\n",
    "В файле seattle.txt записаны цены на объекты недвижимости в одном районе из районов Сиетла в 2001 и 2002 году (объекты выбирались случайно). Изменились ли средние цены в этом районе за год? Проверить это с помощью рангового критерия"
   ],
   "metadata": {
    "id": "WOaLNSuDYP0u"
   }
  },
  {
   "cell_type": "code",
   "source": [
    "!curl -O https://raw.githubusercontent.com/YuriyKotov/datasets/master/seattle.txt >> seattle.txt"
   ],
   "metadata": {
    "colab": {
     "base_uri": "https://localhost:8080/"
    },
    "id": "o72BE1kbopmr",
    "outputId": "0f9e541e-8903-4287-89ef-860e44eb6a7b",
    "ExecuteTime": {
     "end_time": "2025-02-09T12:59:23.683974Z",
     "start_time": "2025-02-09T12:59:22.548119Z"
    }
   },
   "outputs": [
    {
     "name": "stdout",
     "output_type": "stream",
     "text": [
      "  % Total    % Received % Xferd  Average Speed   Time    Time     Time  Current\r\n",
      "                                 Dload  Upload   Total   Spent    Left  Speed\r\n",
      "100   996  100   996    0     0   1198      0 --:--:-- --:--:-- --:--:--  1197\r\n"
     ]
    }
   ],
   "execution_count": 44
  },
  {
   "cell_type": "code",
   "source": [
    "df = pd.read_csv('seattle.txt', sep='\\t')\n",
    "df.info()"
   ],
   "metadata": {
    "colab": {
     "base_uri": "https://localhost:8080/"
    },
    "id": "kMdbc2rqowSB",
    "outputId": "7e129954-8b6a-4d1b-b82a-bd9c42606842",
    "ExecuteTime": {
     "end_time": "2025-02-09T12:59:23.866761Z",
     "start_time": "2025-02-09T12:59:23.860888Z"
    }
   },
   "outputs": [
    {
     "name": "stdout",
     "output_type": "stream",
     "text": [
      "<class 'pandas.core.frame.DataFrame'>\n",
      "RangeIndex: 100 entries, 0 to 99\n",
      "Data columns (total 2 columns):\n",
      " #   Column  Non-Null Count  Dtype  \n",
      "---  ------  --------------  -----  \n",
      " 0   Price   100 non-null    float64\n",
      " 1   Year    100 non-null    int64  \n",
      "dtypes: float64(1), int64(1)\n",
      "memory usage: 1.7 KB\n"
     ]
    }
   ],
   "execution_count": 45
  },
  {
   "cell_type": "code",
   "source": [
    "df.head()"
   ],
   "metadata": {
    "colab": {
     "base_uri": "https://localhost:8080/",
     "height": 206
    },
    "id": "Ss1vOTyfo05L",
    "outputId": "00e79112-34a4-48ba-aabf-a194c45e7eb3",
    "ExecuteTime": {
     "end_time": "2025-02-09T12:59:23.885248Z",
     "start_time": "2025-02-09T12:59:23.880669Z"
    }
   },
   "outputs": [
    {
     "data": {
      "text/plain": [
       "   Price  Year\n",
       "0  142.0  2002\n",
       "1  232.0  2002\n",
       "2  132.5  2002\n",
       "3  200.0  2002\n",
       "4  362.0  2002"
      ],
      "text/html": [
       "<div>\n",
       "<style scoped>\n",
       "    .dataframe tbody tr th:only-of-type {\n",
       "        vertical-align: middle;\n",
       "    }\n",
       "\n",
       "    .dataframe tbody tr th {\n",
       "        vertical-align: top;\n",
       "    }\n",
       "\n",
       "    .dataframe thead th {\n",
       "        text-align: right;\n",
       "    }\n",
       "</style>\n",
       "<table border=\"1\" class=\"dataframe\">\n",
       "  <thead>\n",
       "    <tr style=\"text-align: right;\">\n",
       "      <th></th>\n",
       "      <th>Price</th>\n",
       "      <th>Year</th>\n",
       "    </tr>\n",
       "  </thead>\n",
       "  <tbody>\n",
       "    <tr>\n",
       "      <th>0</th>\n",
       "      <td>142.0</td>\n",
       "      <td>2002</td>\n",
       "    </tr>\n",
       "    <tr>\n",
       "      <th>1</th>\n",
       "      <td>232.0</td>\n",
       "      <td>2002</td>\n",
       "    </tr>\n",
       "    <tr>\n",
       "      <th>2</th>\n",
       "      <td>132.5</td>\n",
       "      <td>2002</td>\n",
       "    </tr>\n",
       "    <tr>\n",
       "      <th>3</th>\n",
       "      <td>200.0</td>\n",
       "      <td>2002</td>\n",
       "    </tr>\n",
       "    <tr>\n",
       "      <th>4</th>\n",
       "      <td>362.0</td>\n",
       "      <td>2002</td>\n",
       "    </tr>\n",
       "  </tbody>\n",
       "</table>\n",
       "</div>"
      ]
     },
     "execution_count": 46,
     "metadata": {},
     "output_type": "execute_result"
    }
   ],
   "execution_count": 46
  },
  {
   "cell_type": "code",
   "source": [
    "df.describe()"
   ],
   "metadata": {
    "colab": {
     "base_uri": "https://localhost:8080/",
     "height": 300
    },
    "id": "Z2XEKkSXUXbw",
    "outputId": "c6d87281-4779-4bdf-8209-6bbc4e40ba6c",
    "ExecuteTime": {
     "end_time": "2025-02-09T12:59:23.973754Z",
     "start_time": "2025-02-09T12:59:23.967247Z"
    }
   },
   "outputs": [
    {
     "data": {
      "text/plain": [
       "            Price         Year\n",
       "count   100.00000   100.000000\n",
       "mean    309.09184  2001.500000\n",
       "std     249.83113     0.502519\n",
       "min      50.00000  2001.000000\n",
       "25%     178.60000  2001.000000\n",
       "50%     248.95000  2001.500000\n",
       "75%     337.75000  2002.000000\n",
       "max    1850.00000  2002.000000"
      ],
      "text/html": [
       "<div>\n",
       "<style scoped>\n",
       "    .dataframe tbody tr th:only-of-type {\n",
       "        vertical-align: middle;\n",
       "    }\n",
       "\n",
       "    .dataframe tbody tr th {\n",
       "        vertical-align: top;\n",
       "    }\n",
       "\n",
       "    .dataframe thead th {\n",
       "        text-align: right;\n",
       "    }\n",
       "</style>\n",
       "<table border=\"1\" class=\"dataframe\">\n",
       "  <thead>\n",
       "    <tr style=\"text-align: right;\">\n",
       "      <th></th>\n",
       "      <th>Price</th>\n",
       "      <th>Year</th>\n",
       "    </tr>\n",
       "  </thead>\n",
       "  <tbody>\n",
       "    <tr>\n",
       "      <th>count</th>\n",
       "      <td>100.00000</td>\n",
       "      <td>100.000000</td>\n",
       "    </tr>\n",
       "    <tr>\n",
       "      <th>mean</th>\n",
       "      <td>309.09184</td>\n",
       "      <td>2001.500000</td>\n",
       "    </tr>\n",
       "    <tr>\n",
       "      <th>std</th>\n",
       "      <td>249.83113</td>\n",
       "      <td>0.502519</td>\n",
       "    </tr>\n",
       "    <tr>\n",
       "      <th>min</th>\n",
       "      <td>50.00000</td>\n",
       "      <td>2001.000000</td>\n",
       "    </tr>\n",
       "    <tr>\n",
       "      <th>25%</th>\n",
       "      <td>178.60000</td>\n",
       "      <td>2001.000000</td>\n",
       "    </tr>\n",
       "    <tr>\n",
       "      <th>50%</th>\n",
       "      <td>248.95000</td>\n",
       "      <td>2001.500000</td>\n",
       "    </tr>\n",
       "    <tr>\n",
       "      <th>75%</th>\n",
       "      <td>337.75000</td>\n",
       "      <td>2002.000000</td>\n",
       "    </tr>\n",
       "    <tr>\n",
       "      <th>max</th>\n",
       "      <td>1850.00000</td>\n",
       "      <td>2002.000000</td>\n",
       "    </tr>\n",
       "  </tbody>\n",
       "</table>\n",
       "</div>"
      ]
     },
     "execution_count": 47,
     "metadata": {},
     "output_type": "execute_result"
    }
   ],
   "execution_count": 47
  },
  {
   "source": [
    "df['Year'].plot(kind='hist', bins=20, title='Year')\n",
    "plt.gca().spines[['top', 'right',]].set_visible(False)"
   ],
   "cell_type": "code",
   "metadata": {
    "colab": {
     "base_uri": "https://localhost:8080/",
     "height": 452
    },
    "id": "NALcibCYSHC0",
    "outputId": "e57a9384-8c88-41fc-abc1-94fc2f2b4918",
    "ExecuteTime": {
     "end_time": "2025-02-09T12:59:24.132637Z",
     "start_time": "2025-02-09T12:59:23.991532Z"
    }
   },
   "outputs": [
    {
     "data": {
      "text/plain": [
       "<Figure size 640x480 with 1 Axes>"
      ],
      "image/png": "[encoded data removed]"
     },
     "metadata": {},
     "output_type": "display_data"
    }
   ],
   "execution_count": 48
  },
  {
   "source": [
    "df['Price'].plot(kind='hist', bins=30, title='Price')\n",
    "plt.gca().spines[['top', 'right',]].set_visible(False)"
   ],
   "cell_type": "code",
   "metadata": {
    "colab": {
     "base_uri": "https://localhost:8080/",
     "height": 452
    },
    "id": "_TmI3skkR8DR",
    "outputId": "faae6fa7-cf29-424a-9bf3-ac949382cc1d",
    "ExecuteTime": {
     "end_time": "2025-02-09T12:59:24.341906Z",
     "start_time": "2025-02-09T12:59:24.162861Z"
    }
   },
   "outputs": [
    {
     "data": {
      "text/plain": [
       "<Figure size 640x480 with 1 Axes>"
      ],
      "image/png": "[encoded data removed]"
     },
     "metadata": {},
     "output_type": "display_data"
    }
   ],
   "execution_count": 49
  },
  {
   "cell_type": "code",
   "source": [
    "prices_2001 = df[df['Year'] == 2001]['Price'].reset_index(drop=True)\n",
    "prices_2002 = df[df['Year'] == 2002]['Price'].reset_index(drop=True)\n",
    "\n",
    "if len(prices_2001) != len(prices_2002):\n",
    "    raise ValueError(\"Некоторые данные отсутствуют.\")\n",
    "\n",
    "statistic_whitneyu, p_value_whitneyu = stats.mannwhitneyu(prices_2001, prices_2002, alternative='greater')\n",
    "\n",
    "print(f\"Ранговый критерий Манна-Уитни: статистика = {statistic_whitneyu}, p-value = {p_value_whitneyu}\")"
   ],
   "metadata": {
    "id": "ntGjG0rhYUz7",
    "colab": {
     "base_uri": "https://localhost:8080/"
    },
    "outputId": "bd74b0f0-decd-463d-9dbb-acda9ed79501",
    "ExecuteTime": {
     "end_time": "2025-02-09T12:59:24.413233Z",
     "start_time": "2025-02-09T12:59:24.407555Z"
    }
   },
   "outputs": [
    {
     "name": "stdout",
     "output_type": "stream",
     "text": [
      "Ранговый критерий Манна-Уитни: статистика = 1295.5, p-value = 0.3781936337850874\n"
     ]
    }
   ],
   "execution_count": 50
  },
  {
   "cell_type": "code",
   "source": [
    "if p_value_wilcoxon < alpha:\n",
    "    print(\"Ранговый критерий Манна-Уитни: Средние цены изменились.\")\n",
    "else:\n",
    "    print(\"Ранговый критерий Манна-Уитни: Средние цены не изменились.\")"
   ],
   "metadata": {
    "colab": {
     "base_uri": "https://localhost:8080/"
    },
    "id": "YK1IVvuAQfnw",
    "outputId": "73a6b77f-dca1-4734-87b7-36657ef9865e",
    "ExecuteTime": {
     "end_time": "2025-02-09T12:59:24.440663Z",
     "start_time": "2025-02-09T12:59:24.438066Z"
    }
   },
   "outputs": [
    {
     "name": "stdout",
     "output_type": "stream",
     "text": [
      "Ранговый критерий Манна-Уитни: Средние цены не изменились.\n"
     ]
    }
   ],
   "execution_count": 51
  },
  {
   "cell_type": "markdown",
   "source": [
    "## Задача 6 (3 балла)\n",
    "\n",
    "В рамках исследования эффективности лекарства\n",
    "пациенты с синдромом дефицита внимания и гиперактивностью в течение недели принимали либо лекарство, либо плацебо. В конце недели каждый пациент проходил тест на способность к подавлению импульсивных поведенческих реакций. Был ли эффект от применения лекарства? Данные находятся в файле methylphenidate.txt."
   ],
   "metadata": {
    "id": "9wo1Yoz1aJgN"
   }
  },
  {
   "cell_type": "code",
   "source": [
    "!curl -O https://raw.githubusercontent.com/YuriyKotov/datasets/master/methylphenidate.txt >> methylphenidate.txt"
   ],
   "metadata": {
    "colab": {
     "base_uri": "https://localhost:8080/"
    },
    "id": "X_PbiOgdpWd7",
    "outputId": "717bd63a-e2c0-4941-b8a6-d4befbefb5bc",
    "ExecuteTime": {
     "end_time": "2025-02-09T12:59:25.583582Z",
     "start_time": "2025-02-09T12:59:24.484548Z"
    }
   },
   "outputs": [
    {
     "name": "stdout",
     "output_type": "stream",
     "text": [
      "  % Total    % Received % Xferd  Average Speed   Time    Time     Time  Current\r\n",
      "                                 Dload  Upload   Total   Spent    Left  Speed\r\n",
      "100   168  100   168    0     0    210      0 --:--:-- --:--:-- --:--:--   210\r\n"
     ]
    }
   ],
   "execution_count": 52
  },
  {
   "cell_type": "code",
   "source": [
    "df = pd.read_csv('methylphenidate.txt', sep=' ')\n",
    "df.info()"
   ],
   "metadata": {
    "colab": {
     "base_uri": "https://localhost:8080/"
    },
    "id": "XfL3AmGwpbDf",
    "outputId": "1304aff7-07e4-4db4-dcf2-9b2e3a61ee43",
    "ExecuteTime": {
     "end_time": "2025-02-09T12:59:25.612898Z",
     "start_time": "2025-02-09T12:59:25.607401Z"
    }
   },
   "outputs": [
    {
     "name": "stdout",
     "output_type": "stream",
     "text": [
      "<class 'pandas.core.frame.DataFrame'>\n",
      "RangeIndex: 24 entries, 0 to 23\n",
      "Data columns (total 2 columns):\n",
      " #   Column           Non-Null Count  Dtype\n",
      "---  ------           --------------  -----\n",
      " 0   Placebo          24 non-null     int64\n",
      " 1   Methylphenidate  24 non-null     int64\n",
      "dtypes: int64(2)\n",
      "memory usage: 516.0 bytes\n"
     ]
    }
   ],
   "execution_count": 53
  },
  {
   "cell_type": "code",
   "source": [
    "df.head()"
   ],
   "metadata": {
    "colab": {
     "base_uri": "https://localhost:8080/",
     "height": 206
    },
    "id": "FniA8kfjplUB",
    "outputId": "d1587714-62f7-4c85-aaeb-ed9c0960c04e",
    "ExecuteTime": {
     "end_time": "2025-02-09T12:59:25.645380Z",
     "start_time": "2025-02-09T12:59:25.639770Z"
    }
   },
   "outputs": [
    {
     "data": {
      "text/plain": [
       "   Placebo  Methylphenidate\n",
       "0       57               62\n",
       "1       27               49\n",
       "2       32               30\n",
       "3       31               34\n",
       "4       34               38"
      ],
      "text/html": [
       "<div>\n",
       "<style scoped>\n",
       "    .dataframe tbody tr th:only-of-type {\n",
       "        vertical-align: middle;\n",
       "    }\n",
       "\n",
       "    .dataframe tbody tr th {\n",
       "        vertical-align: top;\n",
       "    }\n",
       "\n",
       "    .dataframe thead th {\n",
       "        text-align: right;\n",
       "    }\n",
       "</style>\n",
       "<table border=\"1\" class=\"dataframe\">\n",
       "  <thead>\n",
       "    <tr style=\"text-align: right;\">\n",
       "      <th></th>\n",
       "      <th>Placebo</th>\n",
       "      <th>Methylphenidate</th>\n",
       "    </tr>\n",
       "  </thead>\n",
       "  <tbody>\n",
       "    <tr>\n",
       "      <th>0</th>\n",
       "      <td>57</td>\n",
       "      <td>62</td>\n",
       "    </tr>\n",
       "    <tr>\n",
       "      <th>1</th>\n",
       "      <td>27</td>\n",
       "      <td>49</td>\n",
       "    </tr>\n",
       "    <tr>\n",
       "      <th>2</th>\n",
       "      <td>32</td>\n",
       "      <td>30</td>\n",
       "    </tr>\n",
       "    <tr>\n",
       "      <th>3</th>\n",
       "      <td>31</td>\n",
       "      <td>34</td>\n",
       "    </tr>\n",
       "    <tr>\n",
       "      <th>4</th>\n",
       "      <td>34</td>\n",
       "      <td>38</td>\n",
       "    </tr>\n",
       "  </tbody>\n",
       "</table>\n",
       "</div>"
      ]
     },
     "execution_count": 54,
     "metadata": {},
     "output_type": "execute_result"
    }
   ],
   "execution_count": 54
  },
  {
   "cell_type": "code",
   "source": [
    "df.describe()"
   ],
   "metadata": {
    "colab": {
     "base_uri": "https://localhost:8080/",
     "height": 300
    },
    "id": "R_J3UG-1UVH3",
    "outputId": "707f672e-84c8-4c1b-f1ce-53598064df56",
    "ExecuteTime": {
     "end_time": "2025-02-09T12:59:25.745753Z",
     "start_time": "2025-02-09T12:59:25.738963Z"
    }
   },
   "outputs": [
    {
     "data": {
      "text/plain": [
       "         Placebo  Methylphenidate\n",
       "count  24.000000        24.000000\n",
       "mean   39.750000        44.708333\n",
       "std    11.314669        12.319935\n",
       "min    26.000000        29.000000\n",
       "25%    33.000000        35.000000\n",
       "50%    36.000000        42.500000\n",
       "75%    44.500000        52.500000\n",
       "max    71.000000        77.000000"
      ],
      "text/html": [
       "<div>\n",
       "<style scoped>\n",
       "    .dataframe tbody tr th:only-of-type {\n",
       "        vertical-align: middle;\n",
       "    }\n",
       "\n",
       "    .dataframe tbody tr th {\n",
       "        vertical-align: top;\n",
       "    }\n",
       "\n",
       "    .dataframe thead th {\n",
       "        text-align: right;\n",
       "    }\n",
       "</style>\n",
       "<table border=\"1\" class=\"dataframe\">\n",
       "  <thead>\n",
       "    <tr style=\"text-align: right;\">\n",
       "      <th></th>\n",
       "      <th>Placebo</th>\n",
       "      <th>Methylphenidate</th>\n",
       "    </tr>\n",
       "  </thead>\n",
       "  <tbody>\n",
       "    <tr>\n",
       "      <th>count</th>\n",
       "      <td>24.000000</td>\n",
       "      <td>24.000000</td>\n",
       "    </tr>\n",
       "    <tr>\n",
       "      <th>mean</th>\n",
       "      <td>39.750000</td>\n",
       "      <td>44.708333</td>\n",
       "    </tr>\n",
       "    <tr>\n",
       "      <th>std</th>\n",
       "      <td>11.314669</td>\n",
       "      <td>12.319935</td>\n",
       "    </tr>\n",
       "    <tr>\n",
       "      <th>min</th>\n",
       "      <td>26.000000</td>\n",
       "      <td>29.000000</td>\n",
       "    </tr>\n",
       "    <tr>\n",
       "      <th>25%</th>\n",
       "      <td>33.000000</td>\n",
       "      <td>35.000000</td>\n",
       "    </tr>\n",
       "    <tr>\n",
       "      <th>50%</th>\n",
       "      <td>36.000000</td>\n",
       "      <td>42.500000</td>\n",
       "    </tr>\n",
       "    <tr>\n",
       "      <th>75%</th>\n",
       "      <td>44.500000</td>\n",
       "      <td>52.500000</td>\n",
       "    </tr>\n",
       "    <tr>\n",
       "      <th>max</th>\n",
       "      <td>71.000000</td>\n",
       "      <td>77.000000</td>\n",
       "    </tr>\n",
       "  </tbody>\n",
       "</table>\n",
       "</div>"
      ]
     },
     "execution_count": 55,
     "metadata": {},
     "output_type": "execute_result"
    }
   ],
   "execution_count": 55
  },
  {
   "cell_type": "code",
   "source": [
    "placebo = df['Placebo']\n",
    "methylphenidate = df['Methylphenidate']"
   ],
   "metadata": {
    "id": "i9vYdSkwaK9L",
    "ExecuteTime": {
     "end_time": "2025-02-09T12:59:25.924361Z",
     "start_time": "2025-02-09T12:59:25.920912Z"
    }
   },
   "outputs": [],
   "execution_count": 56
  },
  {
   "cell_type": "code",
   "source": [
    "data = pd.DataFrame({\n",
    "    'Группа': ['Плацебо'] * len(placebo) + ['Метилфенидат'] * len(methylphenidate),\n",
    "    'Результат': list(placebo) + list(methylphenidate)\n",
    "})"
   ],
   "metadata": {
    "id": "YkqJUxtXYOJX",
    "ExecuteTime": {
     "end_time": "2025-02-09T12:59:26.092606Z",
     "start_time": "2025-02-09T12:59:26.089443Z"
    }
   },
   "outputs": [],
   "execution_count": 57
  },
  {
   "cell_type": "code",
   "source": [
    "plt.figure(figsize=(8, 6))\n",
    "sns.boxplot(x='Группа', y='Результат', data=data)\n",
    "plt.title('Box Plot для групп Плацебо и Метилфенидат')\n",
    "plt.xlabel('Группа')\n",
    "plt.ylabel('Результат')\n",
    "plt.show()"
   ],
   "metadata": {
    "colab": {
     "base_uri": "https://localhost:8080/",
     "height": 564
    },
    "id": "wR-EvUVmXxWr",
    "outputId": "acdfe6e0-3b62-4dfe-b5de-70ff5d6a8433",
    "ExecuteTime": {
     "end_time": "2025-02-09T12:59:26.280320Z",
     "start_time": "2025-02-09T12:59:26.164072Z"
    }
   },
   "outputs": [
    {
     "data": {
      "text/plain": [
       "<Figure size 800x600 with 1 Axes>"
      ],
      "image/png": "[encoded data removed]"
     },
     "metadata": {},
     "output_type": "display_data"
    }
   ],
   "execution_count": 58
  },
  {
   "cell_type": "code",
   "source": [
    "plt.figure(figsize=(8, 6))\n",
    "sns.violinplot(x='Группа', y='Результат', data=data)\n",
    "plt.title('Violin Plot для групп Плацебо и Метилфенидат')\n",
    "plt.xlabel('Группа')\n",
    "plt.ylabel('Результат')\n",
    "plt.show()"
   ],
   "metadata": {
    "colab": {
     "base_uri": "https://localhost:8080/",
     "height": 564
    },
    "id": "3CMzwumgYHEu",
    "outputId": "b72dc60b-cd4f-496a-901b-8db06e58170c",
    "ExecuteTime": {
     "end_time": "2025-02-09T12:59:26.431401Z",
     "start_time": "2025-02-09T12:59:26.308971Z"
    }
   },
   "outputs": [
    {
     "data": {
      "text/plain": [
       "<Figure size 800x600 with 1 Axes>"
      ],
      "image/png": "[encoded data removed]"
     },
     "metadata": {},
     "output_type": "display_data"
    }
   ],
   "execution_count": 59
  },
  {
   "cell_type": "code",
   "source": [
    "# Проверка нормальности распределения\n",
    "_, p_value_placebo = stats.shapiro(placebo)\n",
    "_, p_value_methylphenidate = stats.shapiro(methylphenidate)\n",
    "\n",
    "print(f\"P-value для теста Шапиро-Уилка на нормальность в группе плацебо: {p_value_placebo}\")\n",
    "print(f\"P-value для теста Шапиро-Уилка на нормальность в группе лекарства: {p_value_methylphenidate}\")\n",
    "\n",
    "# Проверка равенства дисперсий (тест Левена)\n",
    "_, p_value_levene = stats.levene(placebo, methylphenidate)\n",
    "print(f\"P-value для теста Левена на равенство дисперсий: {p_value_levene}\")"
   ],
   "metadata": {
    "colab": {
     "base_uri": "https://localhost:8080/"
    },
    "id": "IQrFLvRjYXjL",
    "outputId": "a2d57212-d023-442d-a8a9-dbde8e763851",
    "ExecuteTime": {
     "end_time": "2025-02-09T12:59:26.512052Z",
     "start_time": "2025-02-09T12:59:26.505040Z"
    }
   },
   "outputs": [
    {
     "name": "stdout",
     "output_type": "stream",
     "text": [
      "P-value для теста Шапиро-Уилка на нормальность в группе плацебо: 0.0030201670519232563\n",
      "P-value для теста Шапиро-Уилка на нормальность в группе лекарства: 0.048768141171827664\n",
      "P-value для теста Левена на равенство дисперсий: 0.40873698568514094\n"
     ]
    }
   ],
   "execution_count": 60
  },
  {
   "cell_type": "code",
   "source": [
    "alpha = 0.05\n",
    "equal_var = None\n",
    "\n",
    "if p_value_levene > alpha:\n",
    "    equal_var = True\n",
    "    print(f\"Дисперсии в группах можно считать равными (p > {alpha} для теста Левена).\")\n",
    "else:\n",
    "    equal_var = False\n",
    "    print(f\"Дисперсии в группах не равны (p <= {alpha} для теста Левена).\")\n",
    "\n",
    "if p_value_placebo > alpha and p_value_methylphenidate > alpha:\n",
    "    print(f\"Данные в обеих группах могут быть нормально распределены (p > {alpha} для теста Шапиро-Уилка).\")\n",
    "else:\n",
    "    print(f\"Данные в одной или обеих группах не являются нормально распределенными (p <= {alpha} для теста Шапиро-Уилка).\")"
   ],
   "metadata": {
    "colab": {
     "base_uri": "https://localhost:8080/"
    },
    "id": "Pf1LWHaCY7Kp",
    "outputId": "aee65c35-e34d-40b0-ac9a-d7be1653f77b",
    "ExecuteTime": {
     "end_time": "2025-02-09T12:59:26.541766Z",
     "start_time": "2025-02-09T12:59:26.537263Z"
    }
   },
   "outputs": [
    {
     "name": "stdout",
     "output_type": "stream",
     "text": [
      "Дисперсии в группах можно считать равными (p > 0.05 для теста Левена).\n",
      "Данные в одной или обеих группах не являются нормально распределенными (p <= 0.05 для теста Шапиро-Уилка).\n"
     ]
    }
   ],
   "execution_count": 61
  },
  {
   "cell_type": "code",
   "source": [
    "# Выполнение t-теста\n",
    "t_stat, p_value_ttest = stats.ttest_ind(placebo, methylphenidate, equal_var=equal_var)\n",
    "\n",
    "print(f\"T-статистика: {t_stat}\")\n",
    "print(f\"P-value для t-теста: {p_value_ttest}\")"
   ],
   "metadata": {
    "colab": {
     "base_uri": "https://localhost:8080/"
    },
    "id": "Heh4QH-eZZNr",
    "outputId": "7796c176-88c3-4fae-f612-6b2e181ad487",
    "ExecuteTime": {
     "end_time": "2025-02-09T12:59:26.597636Z",
     "start_time": "2025-02-09T12:59:26.591920Z"
    }
   },
   "outputs": [
    {
     "name": "stdout",
     "output_type": "stream",
     "text": [
      "T-статистика: -1.452163501815909\n",
      "P-value для t-теста: 0.1532433046938409\n"
     ]
    }
   ],
   "execution_count": 62
  },
  {
   "cell_type": "code",
   "source": [
    "if p_value_ttest < alpha:\n",
    "    print(f\"Результаты t-теста статистически значимы (p < {alpha}). Лекарство оказывает эффект.\")\n",
    "else:\n",
    "    print(f\"Результаты t-теста не являются статистически значимыми (p >= {alpha}). Нет достаточных доказательств того, что лекарство оказывает эффект.\")"
   ],
   "metadata": {
    "colab": {
     "base_uri": "https://localhost:8080/"
    },
    "id": "arLqDePOXN3V",
    "outputId": "26b9463a-26aa-479a-e49c-8693809bc21b",
    "ExecuteTime": {
     "end_time": "2025-02-09T12:59:26.648542Z",
     "start_time": "2025-02-09T12:59:26.645807Z"
    }
   },
   "outputs": [
    {
     "name": "stdout",
     "output_type": "stream",
     "text": [
      "Результаты t-теста не являются статистически значимыми (p >= 0.05). Нет достаточных доказательств того, что лекарство оказывает эффект.\n"
     ]
    }
   ],
   "execution_count": 63
  },
  {
   "cell_type": "markdown",
   "source": [
    "## Задача 7 (2 балла)"
   ],
   "metadata": {
    "id": "Xk_biq0Ucjkb"
   }
  },
  {
   "cell_type": "markdown",
   "source": [
    "\n",
    "1.   Сгенерировать выборки с нормальным распределением без выбросов, докинуть эффект на одну из них равномерно и с помощью распределения\n",
    "2.   То же, что и в п1, но выборки с выбросами сделать\n",
    "3.   Для случаев из п1 и п2 бутстрэпом оценить: среднее, медиану, 25% перцентиль, построить доверительные интервалы для статистик (речь о разницах средних/медиан/перцентилей для групп)\n",
    "4.   Для случаев из п1 и п2 оценить среднее т-тестом и Манном-Уитни. Сравнить с результатами бутстрэпа. Сделать выводы. Сравниваем точечные оценки (на бутстрэпе их тоже считаем)\n",
    "\n",
    "Примечание:\n",
    "- Бутстреп считать минимум на 1000 итераций\n",
    "- Для докидывания эффекта с помощью распределения возьмите распределение из stats, параметры задаются исходя из параметров изначального вектора и желаемого эффекта\n"
   ],
   "metadata": {
    "id": "NgckbeNXcvJH"
   }
  },
  {
   "cell_type": "code",
   "source": [
    "n = 1000\n",
    "mean = 50\n",
    "std_dev = 10\n",
    "\n",
    "# Генерация выборок\n",
    "sample1 = np.random.normal(mean, std_dev, n)\n",
    "sample2 = np.random.normal(mean, std_dev, n)\n",
    "\n",
    "# Добавление эффекта на sample2\n",
    "effect_size = 0.05  # 5% увеличение\n",
    "effect_indices = np.random.choice(n, 500, replace=False)\n",
    "sample2[effect_indices] *= (1 + effect_size)"
   ],
   "metadata": {
    "id": "sI3Yc-z7cmd5",
    "ExecuteTime": {
     "end_time": "2025-02-09T12:59:26.698884Z",
     "start_time": "2025-02-09T12:59:26.695801Z"
    }
   },
   "outputs": [],
   "execution_count": 64
  },
  {
   "cell_type": "code",
   "source": [
    "# Визуализация\n",
    "sns.histplot(sample1, kde=True, color='blue', label='Sample 1')\n",
    "sns.histplot(sample2, kde=True, color='red', label='Sample 2')\n",
    "plt.legend()\n",
    "plt.show()"
   ],
   "metadata": {
    "colab": {
     "base_uri": "https://localhost:8080/",
     "height": 430
    },
    "id": "qfZaZF9U8pjN",
    "outputId": "7e515181-65b9-4d28-a490-28e166fff945",
    "ExecuteTime": {
     "end_time": "2025-02-09T12:59:26.930551Z",
     "start_time": "2025-02-09T12:59:26.746245Z"
    }
   },
   "outputs": [
    {
     "data": {
      "text/plain": [
       "<Figure size 640x480 with 1 Axes>"
      ],
      "image/png": "[encoded data removed]"
     },
     "metadata": {},
     "output_type": "display_data"
    }
   ],
   "execution_count": 65
  },
  {
   "cell_type": "code",
   "source": [
    "# Генерация выборок с выбросами\n",
    "sample1_outliers = np.random.normal(mean, std_dev, n)\n",
    "sample2_outliers = np.random.normal(mean, std_dev, n)\n",
    "\n",
    "# Добавление выбросов\n",
    "sample1_outliers[:50] = np.random.normal(mean + 5 * std_dev, std_dev, 50)\n",
    "sample2_outliers[:50] = np.random.normal(mean + 5 * std_dev, std_dev, 50)\n",
    "\n",
    "# Добавление эффекта на sample2_outliers\n",
    "sample2_outliers[effect_indices] *= (1 + effect_size)"
   ],
   "metadata": {
    "id": "-EB9wHos5gJf",
    "ExecuteTime": {
     "end_time": "2025-02-09T12:59:26.949229Z",
     "start_time": "2025-02-09T12:59:26.946230Z"
    }
   },
   "outputs": [],
   "execution_count": 66
  },
  {
   "cell_type": "code",
   "source": [
    "# Визуализация\n",
    "sns.histplot(sample1_outliers, kde=True, color='blue', label='Sample 1 with Outliers')\n",
    "sns.histplot(sample2_outliers, kde=True, color='red', label='Sample 2 with Outliers')\n",
    "plt.legend()\n",
    "plt.show()"
   ],
   "metadata": {
    "colab": {
     "base_uri": "https://localhost:8080/",
     "height": 430
    },
    "id": "1pk5bYDH8wTV",
    "outputId": "48583c69-73c2-4a03-c117-410742fb6eaa",
    "ExecuteTime": {
     "end_time": "2025-02-09T12:59:27.226449Z",
     "start_time": "2025-02-09T12:59:27.005596Z"
    }
   },
   "outputs": [
    {
     "data": {
      "text/plain": [
       "<Figure size 640x480 with 1 Axes>"
      ],
      "image/png": "[encoded data removed]"
     },
     "metadata": {},
     "output_type": "display_data"
    }
   ],
   "execution_count": 67
  },
  {
   "cell_type": "code",
   "source": [
    "# Бутстрэп для оценки статистик\n",
    "def bootstrap_stats(sample1, sample2, n_iterations=1000):\n",
    "    stats = []\n",
    "    for _ in range(n_iterations):\n",
    "        boot_sample1 = np.random.choice(sample1, size=len(sample1), replace=True)\n",
    "        boot_sample2 = np.random.choice(sample2, size=len(sample2), replace=True)\n",
    "        mean_diff = np.mean(boot_sample2) - np.mean(boot_sample1)\n",
    "        median_diff = np.median(boot_sample2) - np.median(boot_sample1)\n",
    "        percentile_diff = np.percentile(boot_sample2, 25) - np.percentile(boot_sample1, 25)\n",
    "        stats.append((mean_diff, median_diff, percentile_diff))\n",
    "\n",
    "    stats = np.array(stats)\n",
    "    mean_diff_ci = np.percentile(stats[:, 0], [2.5, 97.5])\n",
    "    median_diff_ci = np.percentile(stats[:, 1], [2.5, 97.5])\n",
    "    percentile_diff_ci = np.percentile(stats[:, 2], [2.5, 97.5])\n",
    "\n",
    "    return mean_diff_ci, median_diff_ci, percentile_diff_ci"
   ],
   "metadata": {
    "id": "tCuQZFG05iLD",
    "ExecuteTime": {
     "end_time": "2025-02-09T12:59:27.239118Z",
     "start_time": "2025-02-09T12:59:27.234268Z"
    }
   },
   "outputs": [],
   "execution_count": 68
  },
  {
   "cell_type": "code",
   "source": [
    "# Бутстрэп для выборок без выбросов\n",
    "mean_diff_ci, median_diff_ci, percentile_diff_ci = bootstrap_stats(sample1, sample2)\n",
    "print(f\"Mean difference CI: {mean_diff_ci}\")\n",
    "print(f\"Median difference CI: {median_diff_ci}\")\n",
    "print(f\"25% percentile difference CI: {percentile_diff_ci}\")"
   ],
   "metadata": {
    "colab": {
     "base_uri": "https://localhost:8080/"
    },
    "id": "jKKb3np19TLD",
    "outputId": "350df04e-fec0-451f-a650-842762d6147e",
    "ExecuteTime": {
     "end_time": "2025-02-09T12:59:27.539127Z",
     "start_time": "2025-02-09T12:59:27.296355Z"
    }
   },
   "outputs": [
    {
     "name": "stdout",
     "output_type": "stream",
     "text": [
      "Mean difference CI: [0.42807164 2.15096848]\n",
      "Median difference CI: [0.34582784 2.42951384]\n",
      "25% percentile difference CI: [0.34040503 2.90193338]\n"
     ]
    }
   ],
   "execution_count": 69
  },
  {
   "cell_type": "code",
   "source": [
    "# Бутстрэп для выборок с выбросами\n",
    "mean_diff_ci_outliers, median_diff_ci_outliers, percentile_diff_ci_outliers = bootstrap_stats(sample1_outliers, sample2_outliers)\n",
    "print(f\"Mean difference CI with outliers: {mean_diff_ci_outliers}\")\n",
    "print(f\"Median difference CI with outliers: {median_diff_ci_outliers}\")\n",
    "print(f\"25% percentile difference CI with outliers: {percentile_diff_ci_outliers}\")"
   ],
   "metadata": {
    "colab": {
     "base_uri": "https://localhost:8080/"
    },
    "id": "Cdfd4cfW9U5V",
    "outputId": "ce8c1eab-4fef-456c-8445-df40a0542935",
    "ExecuteTime": {
     "end_time": "2025-02-09T12:59:27.789918Z",
     "start_time": "2025-02-09T12:59:27.544124Z"
    }
   },
   "outputs": [
    {
     "name": "stdout",
     "output_type": "stream",
     "text": [
      "Mean difference CI with outliers: [0.38088088 3.05176103]\n",
      "Median difference CI with outliers: [0.10608415 2.50353768]\n",
      "25% percentile difference CI with outliers: [0.67427315 3.24419684]\n"
     ]
    }
   ],
   "execution_count": 70
  },
  {
   "cell_type": "code",
   "source": [
    "# t-тест для выборок без выбросов\n",
    "t_stat, p_value = stats.ttest_ind(sample2, sample1)\n",
    "print(f\"t-test: t-statistic = {t_stat}, p-value = {p_value}\")\n",
    "if p_value < 0.05:\n",
    "    print(\"При уровне значимости α = 0.05, t-тест для выборок без выбросов позволяет отвергнуть нулевую гипотезу о равенстве средних.\")\n",
    "else:\n",
    "    print(\"При уровне значимости α = 0.05, t-тест для выборок без выбросов не позволяет отвергнуть нулевую гипотезу о равенстве средних.\")\n",
    "\n",
    "# Манна-Уитни для выборок без выбросов\n",
    "u_stat, p_value_mw = stats.mannwhitneyu(sample2, sample1)\n",
    "print(f\"Mann-Whitney U test: U-statistic = {u_stat}, p-value = {p_value_mw}\")\n",
    "if p_value_mw < 0.05:\n",
    "    print(\"При уровне значимости α = 0.05, Манна-Уитни для выборок без выбросов позволяет отвергнуть нулевую гипотезу о равенстве распределений.\")\n",
    "else:\n",
    "    print(\"При уровне значимости α = 0.05, Манна-Уитни для выборок без выбросов не позволяет отвергнуть нулевую гипотезу о равенстве распределений.\")"
   ],
   "metadata": {
    "colab": {
     "base_uri": "https://localhost:8080/"
    },
    "id": "x-yY7dXO6-9z",
    "outputId": "fba674a8-8c68-427e-b4a1-6de0d139e555",
    "ExecuteTime": {
     "end_time": "2025-02-09T12:59:27.811820Z",
     "start_time": "2025-02-09T12:59:27.805722Z"
    }
   },
   "outputs": [
    {
     "name": "stdout",
     "output_type": "stream",
     "text": [
      "t-test: t-statistic = 2.884288435236996, p-value = 0.003965005849460282\n",
      "При уровне значимости α = 0.05, t-тест для выборок без выбросов позволяет отвергнуть нулевую гипотезу о равенстве средних.\n",
      "Mann-Whitney U test: U-statistic = 537489.0, p-value = 0.003694638193200081\n",
      "При уровне значимости α = 0.05, Манна-Уитни для выборок без выбросов позволяет отвергнуть нулевую гипотезу о равенстве распределений.\n"
     ]
    }
   ],
   "execution_count": 71
  },
  {
   "cell_type": "code",
   "source": [
    "# t-тест для выборок с выбросами\n",
    "t_stat_outliers, p_value_outliers = stats.ttest_ind(sample2_outliers, sample1_outliers)\n",
    "print(f\"t-test with outliers: t-statistic = {t_stat_outliers}, p-value = {p_value_outliers}\")\n",
    "if p_value_outliers < 0.05:\n",
    "    print(\"При уровне значимости α = 0.05, t-тест для выборок с выбросами позволяет отвергнуть нулевую гипотезу о равенстве средних.\")\n",
    "else:\n",
    "    print(\"При уровне значимости α = 0.05, t-тест для выборок с выбросами не позволяет отвергнуть нулевую гипотезу о равенстве средних.\")\n",
    "\n",
    "# Манна-Уитни для выборок с выбросами\n",
    "u_stat_outliers, p_value_mw_outliers = stats.mannwhitneyu(sample2_outliers, sample1_outliers)\n",
    "print(f\"Mann-Whitney U test with outliers: U-statistic = {u_stat_outliers}, p-value = {p_value_mw_outliers}\")\n",
    "if p_value_mw_outliers < 0.05:\n",
    "    print(\"При уровне значимости α = 0.05, Манна-Уитни для выборок с выбросами позволяет отвергнуть нулевую гипотезу о равенстве распределений.\")\n",
    "else:\n",
    "    print(\"При уровне значимости α = 0.05, Манна-Уитни для выборок с выбросами не позволяет отвергнуть нулевую гипотезу о равенстве распределений.\")"
   ],
   "metadata": {
    "colab": {
     "base_uri": "https://localhost:8080/"
    },
    "id": "v47olzCP9rKh",
    "outputId": "8cfdbd3e-0b0e-468f-ed89-9aeeccba77b6",
    "ExecuteTime": {
     "end_time": "2025-02-09T12:59:27.861986Z",
     "start_time": "2025-02-09T12:59:27.855025Z"
    }
   },
   "outputs": [
    {
     "name": "stdout",
     "output_type": "stream",
     "text": [
      "t-test with outliers: t-statistic = 2.3607999444902505, p-value = 0.01833112179393172\n",
      "При уровне значимости α = 0.05, t-тест для выборок с выбросами позволяет отвергнуть нулевую гипотезу о равенстве средних.\n",
      "Mann-Whitney U test with outliers: U-statistic = 537628.0, p-value = 0.0035696110593026772\n",
      "При уровне значимости α = 0.05, Манна-Уитни для выборок с выбросами позволяет отвергнуть нулевую гипотезу о равенстве распределений.\n"
     ]
    }
   ],
   "execution_count": 72
  },
  {
   "cell_type": "markdown",
   "source": [
    "## Задача 8 (2 балла)\n",
    "\n",
    "Сгенерировать 2 выборки из нормального распределения с 1000 элементов каждая.\n",
    "- Оцените на этих данных мощность и корректность t-test и Манна-Уитни\n",
    "- Докиньте выбросы в обе группы и проверьте как изменится мощность и корректность\n",
    "\n",
    "Для оценки использовать минимум 1000 итераций"
   ],
   "metadata": {
    "id": "xtq9xW5fHjld"
   }
  },
  {
   "cell_type": "code",
   "source": [
    "# Функция для оценки мощности и корректности\n",
    "def evaluate_tests(num_iterations, alpha, with_outliers=False):\n",
    "    t_test_power = 0\n",
    "    mannwhitney_power = 0\n",
    "    t_test_correctness = 0\n",
    "    mannwhitney_correctness = 0\n",
    "\n",
    "    for _ in range(num_iterations):\n",
    "        sample1, sample2 = generate_samples(with_outliers)\n",
    "\n",
    "        t_stat, t_p_value = stats.ttest_ind(sample1, sample2)\n",
    "        if t_p_value < alpha:\n",
    "            t_test_power += 1\n",
    "        if t_p_value >= alpha:\n",
    "            t_test_correctness += 1\n",
    "\n",
    "        u_stat, u_p_value = stats.mannwhitneyu(sample1, sample2)\n",
    "        if u_p_value < alpha:\n",
    "            mannwhitney_power += 1\n",
    "        if u_p_value >= alpha:\n",
    "            mannwhitney_correctness += 1\n",
    "\n",
    "    t_test_power /= num_iterations\n",
    "    mannwhitney_power /= num_iterations\n",
    "    t_test_correctness /= num_iterations\n",
    "    mannwhitney_correctness /= num_iterations\n",
    "\n",
    "    return t_test_power, mannwhitney_power, t_test_correctness, mannwhitney_correctness"
   ],
   "metadata": {
    "id": "FSXCkm-f-73v",
    "ExecuteTime": {
     "end_time": "2025-02-09T12:59:27.909177Z",
     "start_time": "2025-02-09T12:59:27.905883Z"
    }
   },
   "outputs": [],
   "execution_count": 73
  },
  {
   "cell_type": "code",
   "source": [
    "def generate_samples(with_outliers=False):\n",
    "    sample1 = np.random.normal(mean, std_dev, n)\n",
    "    sample2 = np.random.normal(mean, std_dev, n)\n",
    "\n",
    "    if with_outliers:\n",
    "        sample1[:50] = np.random.normal(mean + 5 * std_dev, std_dev, 50)\n",
    "        sample2[:50] = np.random.normal(mean + 5 * std_dev, std_dev, 50)\n",
    "\n",
    "    return sample1, sample2"
   ],
   "metadata": {
    "id": "gzqsiD4p--Gl",
    "ExecuteTime": {
     "end_time": "2025-02-09T12:59:27.957169Z",
     "start_time": "2025-02-09T12:59:27.953008Z"
    }
   },
   "outputs": [],
   "execution_count": 74
  },
  {
   "cell_type": "code",
   "source": [
    "n = 1000\n",
    "mean = 50\n",
    "std_dev = 10\n",
    "num_iterations = 1000\n",
    "alpha = 0.05\n",
    "\n",
    "t_test_power, mannwhitney_power, t_test_correctness, mannwhitney_correctness = evaluate_tests(num_iterations, alpha)\n",
    "print(f\"Без выбросов:\")\n",
    "print(f\"t-test power: {t_test_power:.4f}, t-test correctness: {t_test_correctness:.4f}\")\n",
    "print(f\"Mann-Whitney power: {mannwhitney_power:.4f}, Mann-Whitney correctness: {mannwhitney_correctness:.4f}\")"
   ],
   "metadata": {
    "id": "Z6-NaqrDIfJO",
    "colab": {
     "base_uri": "https://localhost:8080/"
    },
    "outputId": "4ae08658-a4a3-4e21-fa8b-afab1569f07a",
    "ExecuteTime": {
     "end_time": "2025-02-09T12:59:29.703416Z",
     "start_time": "2025-02-09T12:59:28.004329Z"
    }
   },
   "outputs": [
    {
     "name": "stdout",
     "output_type": "stream",
     "text": [
      "Без выбросов:\n",
      "t-test power: 0.0510, t-test correctness: 0.9490\n",
      "Mann-Whitney power: 0.0560, Mann-Whitney correctness: 0.9440\n"
     ]
    }
   ],
   "execution_count": 75
  },
  {
   "cell_type": "code",
   "source": [
    "if t_test_power > mannwhitney_power:\n",
    "    print(f\"При уровне значимости α = {alpha}, t-test показывает более высокую мощность, чем Mann-Whitney.\")\n",
    "else:\n",
    "    print(f\"При уровне значимости α = {alpha}, Mann-Whitney показывает более высокую мощность, чем t-test.\")\n",
    "\n",
    "if t_test_correctness > mannwhitney_correctness:\n",
    "    print(f\"При уровне значимости α = {alpha}, t-test показывает более высокую корректность, чем Mann-Whitney.\")\n",
    "else:\n",
    "    print(f\"При уровне значимости α = {alpha}, Mann-Whitney показывает более высокую корректность, чем t-test.\")"
   ],
   "metadata": {
    "colab": {
     "base_uri": "https://localhost:8080/"
    },
    "id": "CEk0gSWq_KhD",
    "outputId": "dc52bc12-dc52-4e59-f3d9-2655954edde2",
    "ExecuteTime": {
     "end_time": "2025-02-09T12:59:29.721236Z",
     "start_time": "2025-02-09T12:59:29.718706Z"
    }
   },
   "outputs": [
    {
     "name": "stdout",
     "output_type": "stream",
     "text": [
      "При уровне значимости α = 0.05, Mann-Whitney показывает более высокую мощность, чем t-test.\n",
      "При уровне значимости α = 0.05, t-test показывает более высокую корректность, чем Mann-Whitney.\n"
     ]
    }
   ],
   "execution_count": 76
  },
  {
   "cell_type": "code",
   "source": [
    "t_test_power_outliers, mannwhitney_power_outliers, t_test_correctness_outliers, mannwhitney_correctness_outliers = evaluate_tests(num_iterations, alpha, with_outliers=True)\n",
    "print(f\"С выбросами:\")\n",
    "print(f\"t-test power: {t_test_power_outliers:.4f}, t-test correctness: {t_test_correctness_outliers:.4f}\")\n",
    "print(f\"Mann-Whitney power: {mannwhitney_power_outliers:.4f}, Mann-Whitney correctness: {mannwhitney_correctness_outliers:.4f}\")"
   ],
   "metadata": {
    "colab": {
     "base_uri": "https://localhost:8080/"
    },
    "id": "uYTqudKL_HL4",
    "outputId": "54d29f1d-642a-47cb-8711-b0ed1756d96e",
    "ExecuteTime": {
     "end_time": "2025-02-09T12:59:31.309670Z",
     "start_time": "2025-02-09T12:59:29.766068Z"
    }
   },
   "outputs": [
    {
     "name": "stdout",
     "output_type": "stream",
     "text": [
      "С выбросами:\n",
      "t-test power: 0.0040, t-test correctness: 0.9960\n",
      "Mann-Whitney power: 0.0270, Mann-Whitney correctness: 0.9730\n"
     ]
    }
   ],
   "execution_count": 77
  },
  {
   "cell_type": "code",
   "source": [
    "if t_test_power_outliers > mannwhitney_power_outliers:\n",
    "    print(f\"При уровне значимости α = {alpha}, t-test показывает более высокую мощность, чем Mann-Whitney, даже с выбросами.\")\n",
    "else:\n",
    "    print(f\"При уровне значимости α = {alpha}, Mann-Whitney показывает более высокую мощность, чем t-test, с выбросами.\")\n",
    "\n",
    "if t_test_correctness_outliers > mannwhitney_correctness_outliers:\n",
    "    print(f\"При уровне значимости α = {alpha}, t-test показывает более высокую корректность, чем Mann-Whitney, даже с выбросами.\")\n",
    "else:\n",
    "    print(f\"При уровне значимости α = {alpha}, Mann-Whitney показывает более высокую корректность, чем t-test, с выбросами.\")"
   ],
   "metadata": {
    "colab": {
     "base_uri": "https://localhost:8080/"
    },
    "id": "pFyoHOJr_Irx",
    "outputId": "a570dcca-0d67-413e-8a9c-ad8f770aed1e",
    "ExecuteTime": {
     "end_time": "2025-02-09T12:59:31.327218Z",
     "start_time": "2025-02-09T12:59:31.324659Z"
    }
   },
   "outputs": [
    {
     "name": "stdout",
     "output_type": "stream",
     "text": [
      "При уровне значимости α = 0.05, Mann-Whitney показывает более высокую мощность, чем t-test, с выбросами.\n",
      "При уровне значимости α = 0.05, t-test показывает более высокую корректность, чем Mann-Whitney, даже с выбросами.\n"
     ]
    }
   ],
   "execution_count": 78
  }
 ]
}
